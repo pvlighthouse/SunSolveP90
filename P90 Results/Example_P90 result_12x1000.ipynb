{
 "cells": [
  {
   "cell_type": "markdown",
   "id": "pLt8VtvJ-Jl-",
   "metadata": {
    "id": "pLt8VtvJ-Jl-"
   },
   "source": [
    "# <img src=\"https://stage.sunsolve.com/_astro/SunSolveLogo.BnIkxJwG_ZSGGx1.svg\">\n",
    "# SunSolve P90"
   ]
  },
  {
   "cell_type": "markdown",
   "id": "10613836",
   "metadata": {},
   "source": [
    "## Intro"
   ]
  },
  {
   "cell_type": "markdown",
   "id": "d0d06581",
   "metadata": {},
   "source": [
    "This notebook provides a tool for simulating uncertainty in PV systems using the '**SunSolve P90**' tool.\n",
    "\n",
    "It can be used to introduce an uncertainty model to any other yield model, such as one from [SunSolve Yield](https://sunsolve.info/yield/).\n",
    "\n",
    "Each code cell contains code that the user should adjust to their situation, then run.\n",
    "\n",
    "A code cell is run with `SHIFT+ENTER`, which also moves to the next cell. `CTRL/⌘+ENTER` runs the cell without jumping forward. Colab users can press the play button to the left of the cell.\n",
    "\n",
    "See [docs.sunsolve.com/en/p90](https://docs.sunsolve.com/en/p90) for the full documentation of SunSolve P90."
   ]
  },
  {
   "cell_type": "markdown",
   "id": "8e207ec5",
   "metadata": {},
   "source": [
    "## Install P90 client and choose project folder"
   ]
  },
  {
   "cell_type": "markdown",
   "id": "f842fc55",
   "metadata": {},
   "source": [
    "<details>\n",
    "<summary>Click to expand for detailed instructions</summary>\n",
    "\n",
    "In **Code cell 1**, you will install and login to SunSolve P90, using your PV Lighthouse account.\n",
    "\n",
    "To obtain an account just contact <support@sunsolve.com>. (**TODO**: add onboarding link instead of email)\n",
    "\n",
    "Press `SHIFT+ENTER` to run the cell (or the play button on the left for Colab users).\n",
    "</details>"
   ]
  },
  {
   "cell_type": "markdown",
   "id": "ad77b1c5",
   "metadata": {},
   "source": [
    "## Code cell 1 (**skip this**)"
   ]
  },
  {
   "cell_type": "code",
   "execution_count": 9,
   "id": "b34eafa6",
   "metadata": {},
   "outputs": [],
   "source": [
    "# TODO: when PyPi package is released, this cell will be the login+install step. Currently can't login first, since the package must be manually installed to login."
   ]
  },
  {
   "cell_type": "markdown",
   "id": "1b89ef04",
   "metadata": {},
   "source": [
    "In **Code cell 2**, you will install the P90 client to access SunSolve P90. Then you will login. (**TODO**: change to \"you will load helper functions to prepare and plot your analysis\", after PyPi release.)\n",
    "\n",
    "**You can leave the settings as default**. The project folder will be assumed as the current directory if so. If it lacks the required files, they'll be cloned into a sub-folder 'SunSolve P90' which will become the project folder.\n",
    "\n",
    "However, **if you are using Google Colab and want to connect it to your Google Drive** do the following:\n",
    "1. Change `USING_DRIVE` to `True`.\n",
    "2. Change `DRIVE_FOLDER` to the desired project folder on your drive. (Paths starting with \"G:\\\\\\\\\" are attempted to be converted, but you may need to manually adjust your mounted drive's structure in Colab).\n",
    "3. Run the cell, connect to your Google account, press `Continue` twice on the pop-up.\n",
    "\n",
    "You can use Colab without Drive, but will need to manually download your results. Be careful of Colab's 90 minute idle timeout for inactivity."
   ]
  },
  {
   "cell_type": "markdown",
   "id": "a038815a",
   "metadata": {},
   "source": [
    "## Code cell 2"
   ]
  },
  {
   "cell_type": "code",
   "execution_count": 10,
   "id": "7d5ff77c-24f1-41b3-9fbb-89ed2ee637b3",
   "metadata": {
    "colab": {
     "base_uri": "https://localhost:8080/"
    },
    "executionInfo": {
     "elapsed": 46301,
     "status": "ok",
     "timestamp": 1758250059262,
     "user": {
      "displayName": "Solomon Freer",
      "userId": "07757358301173662182"
     },
     "user_tz": -600
    },
    "id": "7d5ff77c-24f1-41b3-9fbb-89ed2ee637b3",
    "outputId": "6397a46f-f4b8-4195-a8a0-80d8d6756a14"
   },
   "outputs": [
    {
     "name": "stdout",
     "output_type": "stream",
     "text": [
      "Note: you may need to restart the kernel to use updated packages.\n"
     ]
    },
    {
     "name": "stderr",
     "output_type": "stream",
     "text": [
      "2025-10-18 09:17:18,190 - INFO - Connected to P90 service at middleware.pvlighthouse.com.au\n"
     ]
    },
    {
     "name": "stdout",
     "output_type": "stream",
     "text": [
      "Connecting to PV Lighthouse...\n",
      "Authenticating...\n",
      "Authentication successful!\n",
      "Loading time step data...\n"
     ]
    },
    {
     "name": "stderr",
     "output_type": "stream",
     "text": [
      "2025-10-18 09:17:36,549 - INFO - P90 client connection closed\n"
     ]
    },
    {
     "name": "stdout",
     "output_type": "stream",
     "text": [
      "Loaded 8760 weather data points\n",
      "Helper functions loaded.\n"
     ]
    }
   ],
   "source": [
    "import os, sys\n",
    "USING_DRIVE = False  # Set to True if using Google Colab and Drive. Set DRIVE_FOLDER below also.\n",
    "DRIVE_FOLDER = r\"/content/G/MyDrive/\"    # Windows paths (G:\\\\ like) will be handled below, Mac paths (~/Google Drive/) also. Alternatively, write as \"/content/G/MyDrive/...\" or \"/content/G/SharedDrives/...\".\n",
    "REQUIRED_FILES = [\"Data\", \"README.md\", \"UncertaintyFunctions.ipynb\",\n",
    "    \"sunsolve_p90_client-0.1.0.167+prerelease-py3-none-any.whl\"]      # If these are found in current directory, then we assume we are in the right folder\n",
    "\n",
    "# Set up Drive folder if using Colab + Drive (must enter DRIVE_FOLDER path above)\n",
    "if USING_DRIVE and \"google.colab\" in sys.modules:\n",
    "    %pip uninstall -y tensorflow google-ai-generativelanguage grpcio-status --quiet # Uninstall conflicting packages (Colab-specific)\n",
    "    from google.colab import drive\n",
    "    folder = DRIVE_FOLDER.replace(\"\\\\\", \"/\").replace(\"G://\", \"/content/G/\").replace(\"~/Google Drive/\", \"/content/G/\")\\\n",
    "        .replace(\"/My Drive\", \"/MyDrive\").replace(\"/Shared Drives\", \"/SharedDrives\")    # Colab doesn't use spaces for these base folder names\n",
    "    drive.mount(\"/content/G\")   # Mount Google Drive to \"/content/G\" (A pop-up will ask for authorization, you must press continue twice but don't need to allow additional permissions)\n",
    "    # Change the working directory to your project folder\n",
    "    os.chdir(folder)\n",
    "# Otherwise, we stay in the current directory.\n",
    "\n",
    "# Check if the required files/folders are available, or clone them into a \"SunSolve P90\" sub-folder (new project folder)\n",
    "if not all(i in os.listdir() for i in REQUIRED_FILES):\n",
    "    if not \"SunSolve P90\" in os.listdir() or not all(i in os.listdir(\"SunSolve P90\") for i in REQUIRED_FILES):\n",
    "        os.makedirs(\"SunSolve P90\", exist_ok=True)\n",
    "        os.system(\"git clone --depth 1 https://github.com/SF-PVL/P90-Notebook.git 'SunSolve P90'\")\n",
    "    os.chdir(\"SunSolve P90\")    # Make the new \"SunSolve P90\" folder the project folder\n",
    "\n",
    "# Install the P90 client (Colab: the pip dependency error can be safely ignored)\n",
    "%pip install sunsolve_p90_client-0.1.0.167+prerelease-py3-none-any.whl --quiet\n",
    "\n",
    "# Load helper functions\n",
    "%run \"UncertaintyFunctions.ipynb\"   # If this fails, try restarting the Python kernel and re-running this cell TODO: remove when PyPi package is released\n",
    "print(\"Helper functions loaded.\")"
   ]
  },
  {
   "cell_type": "markdown",
   "id": "e73bfe28",
   "metadata": {},
   "source": [
    "## Set up simulation inputs"
   ]
  },
  {
   "cell_type": "markdown",
   "id": "64ee7b57",
   "metadata": {},
   "source": [
    "**Code cell 3** below is where you will definine up your simulation inputs.\n",
    "\n",
    "These define the expected conditions of your system, including its weather (from a `.pwv` or `.csv` file). In a later cell, we will introduce uncertainty to some of these.\n",
    "\n",
    "There are many other inputs you can define, with only some set below. See [Simulation Inputs](https://docs.sunsolve.com/en/p90/simulation-inputs) in the P90 docs for more info."
   ]
  },
  {
   "cell_type": "markdown",
   "id": "6379e651",
   "metadata": {},
   "source": [
    "## Code cell 3"
   ]
  },
  {
   "cell_type": "code",
   "execution_count": 11,
   "id": "_GSgjPN_6wA4",
   "metadata": {
    "colab": {
     "base_uri": "https://localhost:8080/"
    },
    "executionInfo": {
     "elapsed": 1254,
     "status": "ok",
     "timestamp": 1758163174876,
     "user": {
      "displayName": "Solomon Freer",
      "userId": "07757358301173662182"
     },
     "user_tz": -600
    },
    "id": "_GSgjPN_6wA4",
    "outputId": "8e4b6767-0330-498c-d3b1-785d889483c6"
   },
   "outputs": [],
   "source": [
    "# Set uncertainty simulation constants (time scales with N_SIMS*N_YEARS, 5000*10 ≈ 120 seconds)\n",
    "N_SIMS = 1000\n",
    "N_YEARS = 12\n",
    "simulation_options = build_simulation_options(number_of_years=N_YEARS, number_of_simulations=N_SIMS)\n",
    "\n",
    "# Collect weather data: sydney.pvw file is provided as part of the source\n",
    "weather_file_path = \"Data/sydney.pvw\"\n",
    "weather_data = load_weather_data(weather_file_path)     # Must be .pvw or a .csv (in the same format as 'Data/sydney.csv', use this as a base if making your own .csv weather file)\n",
    "\n",
    "# Set up system\n",
    "module_info = build_module_info(\n",
    "    length=2.0, width=1.0, bifaciality=0.8)\n",
    "\n",
    "system_info = build_system_info(\n",
    "    modules_per_string=1,\n",
    "    fallback_module_tilt_in_degrees=30,\n",
    "    number_of_inverters=1,\n",
    "    num_strings_per_inverter=1,\n",
    "    row_pitch_in_m=5.6,\n",
    "    azimuth_in_degrees=90            # Direction modules face for positive tilt. 0=North, 90=East, 180=South\n",
    ")\n",
    "\n",
    "electrical_settings = build_electrical_settings(\n",
    "    inverter_efficiency=0.98,\n",
    "    module_to_module_mismatch=0.01,\n",
    "    string_wiring_loss=0.01,\n",
    "    inverter_wiring_loss=0.01,\n",
    "    max_power_tracking_loss=0.0\n",
    ")\n",
    "\n",
    "thermal_settings = build_thermal_settings(uc=25.0, uv=1.2, alpha=0.9)\n",
    "\n",
    "optical_settings = build_optical_settings(fallback_albedo=0.2,\n",
    "    fallback_soiling_front=0.02, fallback_soiling_rear=0.002)\n",
    "\n",
    "operational_settings = build_operational_settings(annual_degradation_rate=0.005,\n",
    "    curtailment=0.02, availability=0.98)\n",
    "\n",
    "# Set up result options\n",
    "p_values = [50, 90, 95]         # e.g. [50, 90, 95] -> P50, P90, P95\n",
    "bin_min = 0.75                  # The minimum yield (normalised to the median: P50) to be binned on histograms\n",
    "bin_delta = 0.01                # The bin size for histograms\n",
    "result_options = build_result_options(p_min=bin_min, p_delta=bin_delta, p_values=p_values)"
   ]
  },
  {
   "cell_type": "markdown",
   "id": "ea770966",
   "metadata": {},
   "source": [
    "## Code cell 4 (optional)"
   ]
  },
  {
   "cell_type": "markdown",
   "id": "511eff48",
   "metadata": {},
   "source": [
    "**Code cell 4** is an (optional) interactive weather plotter, to check your weather file. Run it with `CTRL/⌘+ENTER`, then adjust the slider to view each day of your weather file.\n",
    "\n",
    "(**Note**: if plots appear with duplicates, this is a VS Code issue. Try restarting your kernel and re-running code cells 1-4.)"
   ]
  },
  {
   "cell_type": "code",
   "execution_count": null,
   "id": "3w3t-_qRsX6R",
   "metadata": {
    "colab": {
     "base_uri": "https://localhost:8080/",
     "height": 349,
     "referenced_widgets": [
      "811b06b676504d2ebd29671c6da0a9f8",
      "17b6047d99d34076b59ee6cf696900ad",
      "945f3aa63fc947018f479b3cae14593e",
      "ebd7b9ea7b6e4dfbacc1fe1c5b9697ae",
      "85f9e286b65a4fac8c81511ba7ea4886",
      "497e22a63315470e8cd894a82b081b1a",
      "68cf0e5b37fa41f0ac6062da308850bb"
     ]
    },
    "executionInfo": {
     "elapsed": 680,
     "status": "ok",
     "timestamp": 1758084947434,
     "user": {
      "displayName": "Solomon Freer",
      "userId": "07757358301173662182"
     },
     "user_tz": -600
    },
    "id": "3w3t-_qRsX6R",
    "outputId": "23e0923f-5a65-4e58-b2c7-2382b4e2a8b6"
   },
   "outputs": [],
   "source": [
    "interactive_weather_plot(weather_file_path, weather_data)"
   ]
  },
  {
   "cell_type": "markdown",
   "id": "LpFMzrv7402Z",
   "metadata": {
    "id": "LpFMzrv7402Z"
   },
   "source": [
    "## Introduce uncertainties"
   ]
  },
  {
   "cell_type": "markdown",
   "id": "3581ec6f",
   "metadata": {},
   "source": [
    "Now you will set up input distributions (probability density functions - PDFs) that will introduce uncertainty to specific inputs."
   ]
  },
  {
   "cell_type": "markdown",
   "id": "8369e378",
   "metadata": {},
   "source": [
    "## Code cell 5 (optional)"
   ]
  },
  {
   "cell_type": "markdown",
   "id": "739b0da5",
   "metadata": {},
   "source": [
    "**Code cell 5** below is an (optional) interactive PDF plotter, which can help you to visualise your distributions before you apply them.\n",
    "\n",
    "If a distribution has a mean of 1, then it will have an equal probability of increasing or decreasing the input.\n",
    "\n",
    "If it is skewed towards 0, then it is more likely to decrease the input.\n",
    "\n",
    "See [Uncertainty Distributions/PDF Types](https://docs.sunsolve.com/en/p90/uncertainty-distributions/pdf-types/) in the P90 docs for more info."
   ]
  },
  {
   "cell_type": "code",
   "execution_count": null,
   "id": "1i1rtZ2e5BNx",
   "metadata": {
    "colab": {
     "base_uri": "https://localhost:8080/",
     "height": 544,
     "referenced_widgets": [
      "2a28907842f4428e9f397618fde49977",
      "1fe7cbca377f495fadfff511a2d1f835",
      "cfdabd99ee58480aa0932b86d76233a9",
      "e89c8ce23aef480882a73508e4cadf0f",
      "268ef1e7025d48feb91a9fcbe6656c33",
      "c9e5cf0c56f34ad7b481171a9243f849",
      "a9406355b3564238978c82a7f0465441",
      "bab86dd017c54823b01de015a91dbabb",
      "31f84b4b7a914739b1ed4061be49f479",
      "5b9d0c0432994973a41f8267a97aca8b",
      "4c19cbc612c0488bb38a2553adc348d5",
      "41b3e82310314cc1b8b7d1d8122c9dff",
      "37c7eb9e966c473b90132b8d5b864597",
      "01566dea1e754185b5eb6be57fb3e65d",
      "9918703946f9475da7d8449d5941fe29",
      "9bc35332a9c44880942ce3ea9d778583",
      "670aa4a24dfb438e9a4bcc33b7ed64e3",
      "623edc5cb1ec4336b02a4ccd0e502e5b",
      "55da9a8b06ec4205808794704dff1838",
      "12c2126172ae40ef948547b3dfd763b1",
      "03cfe615c9fe4f618f541782cbc243ff",
      "742280947e5e4d538804e16d4182dc76",
      "81744888b9b84073993f4547b1a4c73a",
      "d1559228ff9346b99d53caff767596e3",
      "61c28a35931c41c5914c597b5a9d62f6",
      "a0cf098e51484f38ada54085dda166c7",
      "eec2cccf6f964cfb9e741b0350683c71",
      "4a71208f255e44ae958831473f514585",
      "63380b1cf8cf4a648f80bd91ebf52b7a",
      "e6aaacfb0d22470c9dcdc307f5d5f089",
      "4eb830e9f9e7433eb46e9cec1ffeee1b",
      "01cca1f76dfc469f9abb9ba3c2a2ca7d",
      "ddc4574c05064b05a92b9240d2af718c",
      "8b615f133dbc492b95780e2096cfe179",
      "9ab92614c9d24cdf962912fbb42fc58c",
      "404c8f29aad145f89cddc0e8fbc241b0",
      "5b50c46b7d3a4eea8a7fdf495659274e",
      "af634f28e8a04c769a348625bd77ec58",
      "4ad125b547e044aea3f14c088cd02bae",
      "1f510be95d43417b820c678ba091b352",
      "3e65724aff1147f1bd3fe3e7bafca8f6",
      "8d12d7678f8b4a99806a346f213e7b85",
      "c26666af2dd34216bbda3991401cb28e",
      "9f5921851d4d4518a2b89d68e364e938",
      "9fdebe93701e49889dd16c5abdaea0e9",
      "fa88320f0e854db88968435bc4535da4",
      "8887c6436ed3421fa7e95edf985f73d2",
      "0c17d50bd63f40af98f2fe7437704117",
      "46c7e3f15c8144ee9abad13461d4edbb",
      "c25c9ed93a78472bba9c4b440b2946d7",
      "04ecb642cccc4837baa99f00522a447a",
      "5ae6780260434fe7a1cf3408790e5241",
      "0dd1f17d8fde4a1c80a30ffadd3f1c67",
      "634fbed189ae4b0ba539ace26e36dfca",
      "d7ee9756ee9343ebad76c82bed42642d"
     ]
    },
    "executionInfo": {
     "elapsed": 225,
     "status": "ok",
     "timestamp": 1758084958437,
     "user": {
      "displayName": "Solomon Freer",
      "userId": "07757358301173662182"
     },
     "user_tz": -600
    },
    "id": "1i1rtZ2e5BNx",
    "outputId": "f8749e7a-b97a-4f78-d0a0-aa65258b93ee"
   },
   "outputs": [],
   "source": [
    "interactive_distribution_plot()"
   ]
  },
  {
   "cell_type": "markdown",
   "id": "f2b8c696",
   "metadata": {},
   "source": [
    "**Code cell 6** is where you will now create the distributions for specific inputs, putting them into a list to send with the P90 request.\n",
    "\n",
    "**Target Inputs** are identified as 'DistributionInput.____', the possible inputs are:\n",
    "\n",
    "GHI, DiffuseFraction, WindSpeed, Temperature, ModulePower, SpectralCorrection, SoilingFront, SoilingRear, Uc, Uv, Alpha, AnnualDegradationRate, Availability, YieldModifier, CircumsolarFraction, UndulatingGround, ExtraIrradiance, Curtailment, DCHealth, InverterToInverterMismatch, StringToStringMismatch, ModuleToModuleMismatch, CellToCellMismatch, InverterEfficiency, ModuleEfficiencyTemperatureCoefficient, Albedo, RearStructuralShadingFactor, RearTransmissionFactor\n",
    "\n",
    "Each input can have a distibution applied on any of three levels:\n",
    "\n",
    "**simToSim**: sim-to-sim variability, affecting all years for that simulation; **yearToYear**: year-to-year variability; **stepToStep**: hour-to-hour variability\n",
    "\n",
    "Note: AnnualDegradationRate is a rate/year and should be positive, soiling should be positive.\n",
    "\n",
    "See [Uncertainty Distributions/Syntax](https://docs.sunsolve.com/en/p90/uncertainty-distributions/syntax/) in the P90 docs for more info on the syntax, or just create your distributions in **Code cell 5** and then copy the syntax from the plot title."
   ]
  },
  {
   "cell_type": "markdown",
   "id": "4740a331",
   "metadata": {},
   "source": [
    "## Code cell 6"
   ]
  },
  {
   "cell_type": "code",
   "execution_count": 12,
   "id": "WErVgmg44Pz0",
   "metadata": {
    "id": "WErVgmg44Pz0"
   },
   "outputs": [],
   "source": [
    "distribution_list = [\n",
    "    create_distribution(DistributionInput.AnnualDegradationRate, simToSim=[\"SkewedGaussian\", 6, 1, 0.002], yearToYear=[\"Gaussian\", 1, 0.02]),\n",
    "    create_distribution(DistributionInput.GHI, simToSim=[\"Gaussian\", 1, 0.06], yearToYear=[\"Gaussian\", 1, 0.04], stepToStep=[\"SkewedGaussian\", -2, 0.95, 0.05]),\n",
    "    create_distribution(DistributionInput.Temperature, simToSim=[\"Gaussian\", 1, 0.06], yearToYear=[\"Gaussian\", 1, 0.04], stepToStep=[\"SkewedGaussian\", -2, 0.95, 0.05]),\n",
    "    create_distribution(DistributionInput.SoilingFront, simToSim=[\"Weibull\", 0, 0.04, 2], yearToYear=[\"Gaussian\", 0.08, 0.04]),\n",
    "]"
   ]
  },
  {
   "cell_type": "markdown",
   "id": "S4Y3ycTB_jWs",
   "metadata": {
    "id": "S4Y3ycTB_jWs"
   },
   "source": [
    "## Run SunSolve P90 analysis"
   ]
  },
  {
   "cell_type": "markdown",
   "id": "64e0f0a1",
   "metadata": {},
   "source": [
    "**Code cell 7** is where the P90 request is put together and sent to SunSolve P90.\n",
    "\n",
    "**summary** is a returned object containing the normalised yield distributions for each year of your simulation, along with P-values and yearly 'P50 deviations' (median yields normalised to the first year's median yield).\n",
    "\n",
    "**used_inputs** contains the inputs used for the simulation. Many will have been set to default values if you didn't supply them.\n",
    "\n",
    "See [Simulation Result](https://docs.sunsolve.com/en/p90/uncertainty-distributions/simulation-result/) in the P90 docs for more info."
   ]
  },
  {
   "cell_type": "markdown",
   "id": "c8123b81",
   "metadata": {},
   "source": [
    "## Code cell 7"
   ]
  },
  {
   "cell_type": "code",
   "execution_count": 13,
   "id": "v6pfDVjyr6CU",
   "metadata": {
    "colab": {
     "base_uri": "https://localhost:8080/"
    },
    "executionInfo": {
     "elapsed": 3757,
     "status": "ok",
     "timestamp": 1758087885489,
     "user": {
      "displayName": "Solomon Freer",
      "userId": "07757358301173662182"
     },
     "user_tz": -600
    },
    "id": "v6pfDVjyr6CU",
    "outputId": "9eace431-0bc0-4527-f14b-5d9b4b649ec4"
   },
   "outputs": [
    {
     "name": "stderr",
     "output_type": "stream",
     "text": [
      "2025-10-18 09:18:01,206 - INFO - Connected to P90 service at middleware.pvlighthouse.com.au\n",
      "2025-10-18 09:18:01,284 - INFO - Starting P90 analysis request\n"
     ]
    },
    {
     "name": "stdout",
     "output_type": "stream",
     "text": [
      "Starting uncertainty analysis...\n"
     ]
    },
    {
     "name": "stderr",
     "output_type": "stream",
     "text": [
      "2025-10-18 09:18:09,503 - INFO - === P90 Analysis Inputs Used ===\n",
      "2025-10-18 09:18:09,505 - INFO - Module: Length=2.000m, Width=1.000m, HeightAboveGround=1.500m, PowerRatingAtSTC=460.0W, CellToCellMismatch=0.0040, EfficiencyTempCoeff=0.002950, Bifaciality=0.800\n",
      "2025-10-18 09:18:09,510 - INFO - System: ModulesPerString=1, StringsPerInverter=1, NumberOfInverters=1\n",
      "2025-10-18 09:18:09,515 - INFO - System Geometry: RowPitch=5.60m, ModuleAzimuth=90.0°, FallbackModuleTilt=30.0°\n",
      "2025-10-18 09:18:09,518 - INFO - System Tracking: TrackingCalculation=0, TiltLimit=55.0°\n",
      "2025-10-18 09:18:09,519 - INFO - Electrical Efficiencies: InverterEff=0.9800, ModuleToModuleMismatch=0.0100, StringWiringLoss=0.0100\n",
      "2025-10-18 09:18:09,520 - INFO - Electrical Losses: MaxPowerTracking=0.0000, InverterWiring=0.0100, StringToStringMismatch=0.0000, InverterToInverterMismatch=0.0000\n",
      "2025-10-18 09:18:09,521 - INFO - Optical Multipliers: BeamFront=1.000, BeamRear=1.000, IsotropicFront=1.010, IsotropicRear=1.000\n",
      "2025-10-18 09:18:09,522 - INFO - Optical Fallbacks: Albedo=0.200, SoilingFront=0.0200, SoilingRear=0.0020, SpectralCorrection=1.0000, ExtraIrradiance=1.0000, RearTransmissionFactor=0.000, RearStructuralShadingFactor=0.000\n",
      "2025-10-18 09:18:09,526 - INFO - Thermal: Uc=25.00°C, Uv=1.20°C, Alpha=0.900000\n",
      "2025-10-18 09:18:09,528 - INFO - Operational: AnnualDegradationRate=0.0050, Curtailment=0.0200, Availability=0.9800, DCHealth=1.0000, UndulatingGround=1.000000, YieldModifier=1.0000\n",
      "2025-10-18 09:18:09,531 - INFO - Simulation: 12 years, 1000 simulations\n",
      "2025-10-18 09:18:09,536 - INFO - Result Options: PMin=0.75, PDelta=0.01, PValues=[50,90,95]\n",
      "2025-10-18 09:18:09,538 - INFO - === End Inputs Used ===\n"
     ]
    },
    {
     "name": "stdout",
     "output_type": "stream",
     "text": [
      "Progress: 100.00%"
     ]
    },
    {
     "name": "stderr",
     "output_type": "stream",
     "text": [
      "2025-10-18 09:18:38,810 - INFO - Received P90 analysis summary\n"
     ]
    },
    {
     "name": "stdout",
     "output_type": "stream",
     "text": [
      "\n",
      "\n",
      "Analysis complete! Summary contains 36 yearly P-values\n",
      "Request took 38 s, running 12000 simulations in total (319 sims/s)\n"
     ]
    },
    {
     "name": "stderr",
     "output_type": "stream",
     "text": [
      "2025-10-18 09:18:38,849 - INFO - P90 client connection closed\n"
     ]
    },
    {
     "data": {
      "text/markdown": [
       "###P-values (Year 1)"
      ],
      "text/plain": [
       "<IPython.core.display.Markdown object>"
      ]
     },
     "metadata": {},
     "output_type": "display_data"
    },
    {
     "data": {
      "text/markdown": [
       "**P50**:\t1.0000"
      ],
      "text/plain": [
       "<IPython.core.display.Markdown object>"
      ]
     },
     "metadata": {},
     "output_type": "display_data"
    },
    {
     "data": {
      "text/markdown": [
       "**P90**:\t0.8915"
      ],
      "text/plain": [
       "<IPython.core.display.Markdown object>"
      ]
     },
     "metadata": {},
     "output_type": "display_data"
    },
    {
     "data": {
      "text/markdown": [
       "**P95**:\t0.8593"
      ],
      "text/plain": [
       "<IPython.core.display.Markdown object>"
      ]
     },
     "metadata": {},
     "output_type": "display_data"
    }
   ],
   "source": [
    "# Build and send request\n",
    "p90_request = build_request(\n",
    "    time_step_data=weather_data,\n",
    "    module=module_info,\n",
    "    system=system_info,\n",
    "    electrical=electrical_settings,\n",
    "    optical=optical_settings,\n",
    "    thermal=thermal_settings,\n",
    "    operational=operational_settings,\n",
    "    distributions=distribution_list,\n",
    "    simulation_options=simulation_options,\n",
    "    result_options=result_options\n",
    ")\n",
    "\n",
    "summary, used_inputs = request_analysis(p90_request)\n",
    "print_year_one_p_values(summary)   # Print the requested P-values for year one"
   ]
  },
  {
   "cell_type": "code",
   "execution_count": null,
   "id": "2c8c2175",
   "metadata": {},
   "outputs": [
    {
     "data": {
      "text/markdown": [
       "### P-values (Year 1)"
      ],
      "text/plain": [
       "<IPython.core.display.Markdown object>"
      ]
     },
     "metadata": {},
     "output_type": "display_data"
    },
    {
     "data": {
      "text/markdown": [
       "**P50**:\t1.0000"
      ],
      "text/plain": [
       "<IPython.core.display.Markdown object>"
      ]
     },
     "metadata": {},
     "output_type": "display_data"
    },
    {
     "data": {
      "text/markdown": [
       "**P90**:\t0.8915"
      ],
      "text/plain": [
       "<IPython.core.display.Markdown object>"
      ]
     },
     "metadata": {},
     "output_type": "display_data"
    },
    {
     "data": {
      "text/markdown": [
       "**P95**:\t0.8593"
      ],
      "text/plain": [
       "<IPython.core.display.Markdown object>"
      ]
     },
     "metadata": {},
     "output_type": "display_data"
    }
   ],
   "source": [
    "# Prints the P-values from the uncertainty summary for year one\n",
    "def print_year_one_p_values(summary):\n",
    "    display(Markdown(\"### P-values (Year 1)\"))\n",
    "    year_one_p_vals = [pval for pval in summary.YearlyPValue if pval.Year == 1]\n",
    "    for p_val in year_one_p_vals:\n",
    "        value = p_val.P50Deviation\n",
    "        display(Markdown(f\"**P{p_val.P}**:\\t{value:.4f}\"))\n",
    "print_year_one_p_values(summary)"
   ]
  },
  {
   "cell_type": "markdown",
   "id": "AHlFarvaisjX",
   "metadata": {
    "id": "AHlFarvaisjX"
   },
   "source": [
    "## Results"
   ]
  },
  {
   "cell_type": "markdown",
   "id": "594452c6",
   "metadata": {},
   "source": [
    "**Code cell 8** contains our main result plots.\n",
    "\n",
    "Results are expressed in terms of 'relative yield' (normalised yield), where a value of 1 is equal to the P50 yield (median yield) of year one.\n",
    "\n",
    "A P90 might have a relative yield of '0.88' - this means that 90% of simulated yields were at least 88% of the P50 yield.\n",
    "\n",
    "The P50 yields of each year are also compared, where the 'Relative P50 yield' is defined relative to the year 1 P50 yield. Hence, this plot visualises annual degradation.\n",
    "\n",
    "Absolute yield estimates are not provided, but [SunSolve Yield](https://sunsolve.info/yield/) can be used to estimate this accurately. You can also supply an absolute yield estimate for year one below, which will then scale all of the relative yields to absolute yields with this year 1 P50 value as the basis. It is assumed to be in 'MWh' if so, but can be changed by supplying a 'yield_units' string to the plotting functions (e.g. `yield_units=\"GJ\"`).\n",
    "\n",
    "Note: The first and last bins of the histograms are larger than the others, they include all values to their left and right, respectively.\n",
    "\n",
    "\n",
    "See [Simulation Result](https://docs.sunsolve.com/en/p90/uncertainty-distributions/simulation-result/) in the P90 docs for more info."
   ]
  },
  {
   "cell_type": "markdown",
   "id": "e39eadb3",
   "metadata": {},
   "source": [
    "## Code cell 8"
   ]
  },
  {
   "cell_type": "code",
   "execution_count": null,
   "id": "_gvZGbd_v64p",
   "metadata": {
    "colab": {
     "base_uri": "https://localhost:8080/",
     "height": 280
    },
    "executionInfo": {
     "elapsed": 71,
     "status": "error",
     "timestamp": 1758087887941,
     "user": {
      "displayName": "Solomon Freer",
      "userId": "07757358301173662182"
     },
     "user_tz": -600
    },
    "id": "_gvZGbd_v64p",
    "outputId": "cf9152b5-8dd9-4ed9-e58d-f036c687db34"
   },
   "outputs": [],
   "source": [
    "year_one_yield = 1              # Change this to plot absolute yields, if you know what the first year yield should be in MWh\n",
    "if N_YEARS > 1:\n",
    "    plot_yearly_P50_Values(summary, year_one_yield=year_one_yield)  # Plots degradation over N_YEARS, don't plot for single year\n",
    "plot_interactive_histogram(summary, bin_min=bin_min, bin_delta=bin_delta, year_one_yield=year_one_yield)"
   ]
  },
  {
   "cell_type": "markdown",
   "id": "9f9380e5",
   "metadata": {},
   "source": [
    "## Code cell 9\n",
    "**Code cell 9** below will allow you to plot your requested P-values as relative yields (relative to the year 1 P50 yield) across `N_YEARS` years."
   ]
  },
  {
   "cell_type": "code",
   "execution_count": 94,
   "id": "Rg-R3tzRyEqq",
   "metadata": {
    "colab": {
     "base_uri": "https://localhost:8080/",
     "height": 542
    },
    "executionInfo": {
     "elapsed": 5,
     "status": "ok",
     "timestamp": 1757652256684,
     "user": {
      "displayName": "Solomon Freer",
      "userId": "07757358301173662182"
     },
     "user_tz": -600
    },
    "id": "Rg-R3tzRyEqq",
    "outputId": "dfee6719-7a27-455e-9eb0-c93dc67b7b90"
   },
   "outputs": [
    {
     "data": {
      "text/html": [
       "<div>\n",
       "<style scoped>\n",
       "    .dataframe tbody tr th:only-of-type {\n",
       "        vertical-align: middle;\n",
       "    }\n",
       "\n",
       "    .dataframe tbody tr th {\n",
       "        vertical-align: top;\n",
       "    }\n",
       "\n",
       "    .dataframe thead th {\n",
       "        text-align: right;\n",
       "    }\n",
       "</style>\n",
       "<table border=\"1\" class=\"dataframe\">\n",
       "  <thead>\n",
       "    <tr style=\"text-align: right;\">\n",
       "      <th></th>\n",
       "      <th>P50</th>\n",
       "      <th>P90</th>\n",
       "      <th>P95</th>\n",
       "    </tr>\n",
       "    <tr>\n",
       "      <th>Year</th>\n",
       "      <th></th>\n",
       "      <th></th>\n",
       "      <th></th>\n",
       "    </tr>\n",
       "  </thead>\n",
       "  <tbody>\n",
       "    <tr>\n",
       "      <th>1</th>\n",
       "      <td>1.0</td>\n",
       "      <td>0.891478</td>\n",
       "      <td>0.859340</td>\n",
       "    </tr>\n",
       "    <tr>\n",
       "      <th>2</th>\n",
       "      <td>1.0</td>\n",
       "      <td>0.893447</td>\n",
       "      <td>0.872333</td>\n",
       "    </tr>\n",
       "    <tr>\n",
       "      <th>3</th>\n",
       "      <td>1.0</td>\n",
       "      <td>0.895356</td>\n",
       "      <td>0.864272</td>\n",
       "    </tr>\n",
       "    <tr>\n",
       "      <th>4</th>\n",
       "      <td>1.0</td>\n",
       "      <td>0.890738</td>\n",
       "      <td>0.866868</td>\n",
       "    </tr>\n",
       "    <tr>\n",
       "      <th>5</th>\n",
       "      <td>1.0</td>\n",
       "      <td>0.892910</td>\n",
       "      <td>0.860155</td>\n",
       "    </tr>\n",
       "    <tr>\n",
       "      <th>6</th>\n",
       "      <td>1.0</td>\n",
       "      <td>0.892761</td>\n",
       "      <td>0.857772</td>\n",
       "    </tr>\n",
       "    <tr>\n",
       "      <th>7</th>\n",
       "      <td>1.0</td>\n",
       "      <td>0.893063</td>\n",
       "      <td>0.852402</td>\n",
       "    </tr>\n",
       "    <tr>\n",
       "      <th>8</th>\n",
       "      <td>1.0</td>\n",
       "      <td>0.895399</td>\n",
       "      <td>0.866111</td>\n",
       "    </tr>\n",
       "    <tr>\n",
       "      <th>9</th>\n",
       "      <td>1.0</td>\n",
       "      <td>0.898133</td>\n",
       "      <td>0.864564</td>\n",
       "    </tr>\n",
       "    <tr>\n",
       "      <th>10</th>\n",
       "      <td>1.0</td>\n",
       "      <td>0.881101</td>\n",
       "      <td>0.856760</td>\n",
       "    </tr>\n",
       "    <tr>\n",
       "      <th>11</th>\n",
       "      <td>1.0</td>\n",
       "      <td>0.897450</td>\n",
       "      <td>0.869858</td>\n",
       "    </tr>\n",
       "    <tr>\n",
       "      <th>12</th>\n",
       "      <td>1.0</td>\n",
       "      <td>0.893837</td>\n",
       "      <td>0.858637</td>\n",
       "    </tr>\n",
       "  </tbody>\n",
       "</table>\n",
       "</div>"
      ],
      "text/plain": [
       "      P50       P90       P95\n",
       "Year                         \n",
       "1     1.0  0.891478  0.859340\n",
       "2     1.0  0.893447  0.872333\n",
       "3     1.0  0.895356  0.864272\n",
       "4     1.0  0.890738  0.866868\n",
       "5     1.0  0.892910  0.860155\n",
       "6     1.0  0.892761  0.857772\n",
       "7     1.0  0.893063  0.852402\n",
       "8     1.0  0.895399  0.866111\n",
       "9     1.0  0.898133  0.864564\n",
       "10    1.0  0.881101  0.856760\n",
       "11    1.0  0.897450  0.869858\n",
       "12    1.0  0.893837  0.858637"
      ]
     },
     "execution_count": 94,
     "metadata": {},
     "output_type": "execute_result"
    }
   ],
   "source": [
    "# plot_pvalues(summary, year_one_yield=year_one_yield)\n",
    "yearly_p_df"
   ]
  },
  {
   "cell_type": "markdown",
   "id": "4a487e65",
   "metadata": {},
   "source": [
    "## Code cell 10 (export to Excel)"
   ]
  },
  {
   "cell_type": "markdown",
   "id": "afd7f4fe",
   "metadata": {},
   "source": [
    "**Code cell 10** allows you to export all your results into an Excel spreadsheet.\n",
    "\n",
    "Feel free to adjust the filename to your needs."
   ]
  },
  {
   "cell_type": "code",
   "execution_count": null,
   "id": "8R4z-dreEVMa",
   "metadata": {
    "colab": {
     "base_uri": "https://localhost:8080/"
    },
    "executionInfo": {
     "elapsed": 46,
     "status": "ok",
     "timestamp": 1755653244781,
     "user": {
      "displayName": "Solomon Freer",
      "userId": "07757358301173662182"
     },
     "user_tz": -600
    },
    "id": "8R4z-dreEVMa",
    "outputId": "495daec9-bc07-4b3c-b7ee-1a1d17de08c1"
   },
   "outputs": [
    {
     "name": "stdout",
     "output_type": "stream",
     "text": [
      "Notebook copy created: 251019_P90 result_12x1000.ipynb\n"
     ]
    }
   ],
   "source": [
    "date_prefix = datetime.date.today().strftime(\"%y%m%d_\")\n",
    "filename = date_prefix + f\"P90 summary_{N_YEARS}x{N_SIMS}\"\n",
    "export_to_excel(summary, filename, bin_min=bin_min, bin_delta=bin_delta, used_inputs=used_inputs, dist_list=distribution_list)\n",
    "\n",
    "CREATE_NOTEBOOK_COPY = False  # Set to True to create a copy of the current notebook with results saved\n",
    "if CREATE_NOTEBOOK_COPY:\n",
    "    # Create a copy of the current notebook\n",
    "    current_notebook = \"P90 Analysis.ipynb\"\n",
    "    result_notebook = filename.replace(\"summary\", \"result\") + \".ipynb\"\n",
    "\n",
    "    try:\n",
    "        with open(current_notebook, 'r', encoding='utf-8') as src:\n",
    "            notebook_content = src.read()\n",
    "        \n",
    "        with open(result_notebook, 'w', encoding='utf-8') as dst:\n",
    "            dst.write(notebook_content)\n",
    "        \n",
    "        print(f\"Notebook copy created: {result_notebook}\")\n",
    "    except FileNotFoundError:\n",
    "        print(f\"Could not find {current_notebook} to copy. You may need to manually save your notebook.\")\n",
    "    except Exception as e:\n",
    "        print(f\"Error creating notebook copy: {e}\")"
   ]
  },
  {
   "cell_type": "markdown",
   "id": "LgrmYuJtZPXn",
   "metadata": {
    "id": "LgrmYuJtZPXn"
   },
   "source": [
    "## Further analysis\n",
    "\n",
    "Continue your own analysis below"
   ]
  },
  {
   "cell_type": "code",
   "execution_count": null,
   "id": "dd5e2e7a",
   "metadata": {},
   "outputs": [
    {
     "data": {
      "application/vnd.plotly.v1+json": {
       "config": {
        "plotlyServerURL": "https://plot.ly"
       },
       "data": [
        {
         "alignmentgroup": "True",
         "hovertemplate": "variable=%{x}<br>value=%{y}<extra></extra>",
         "legendgroup": "",
         "marker": {
          "color": "#636efa"
         },
         "name": "",
         "notched": false,
         "offsetgroup": "",
         "orientation": "v",
         "showlegend": false,
         "type": "box",
         "x": [
          "0.75",
          "0.75",
          "0.75",
          "0.75",
          "0.75",
          "0.75",
          "0.75",
          "0.75",
          "0.75",
          "0.75",
          "0.75",
          "0.75",
          "0.76",
          "0.76",
          "0.76",
          "0.76",
          "0.76",
          "0.76",
          "0.76",
          "0.76",
          "0.76",
          "0.76",
          "0.76",
          "0.76",
          "0.77",
          "0.77",
          "0.77",
          "0.77",
          "0.77",
          "0.77",
          "0.77",
          "0.77",
          "0.77",
          "0.77",
          "0.77",
          "0.77",
          "0.78",
          "0.78",
          "0.78",
          "0.78",
          "0.78",
          "0.78",
          "0.78",
          "0.78",
          "0.78",
          "0.78",
          "0.78",
          "0.78",
          "0.79",
          "0.79",
          "0.79",
          "0.79",
          "0.79",
          "0.79",
          "0.79",
          "0.79",
          "0.79",
          "0.79",
          "0.79",
          "0.79",
          "0.8",
          "0.8",
          "0.8",
          "0.8",
          "0.8",
          "0.8",
          "0.8",
          "0.8",
          "0.8",
          "0.8",
          "0.8",
          "0.8",
          "0.81",
          "0.81",
          "0.81",
          "0.81",
          "0.81",
          "0.81",
          "0.81",
          "0.81",
          "0.81",
          "0.81",
          "0.81",
          "0.81",
          "0.82",
          "0.82",
          "0.82",
          "0.82",
          "0.82",
          "0.82",
          "0.82",
          "0.82",
          "0.82",
          "0.82",
          "0.82",
          "0.82",
          "0.83",
          "0.83",
          "0.83",
          "0.83",
          "0.83",
          "0.83",
          "0.83",
          "0.83",
          "0.83",
          "0.83",
          "0.83",
          "0.83",
          "0.84",
          "0.84",
          "0.84",
          "0.84",
          "0.84",
          "0.84",
          "0.84",
          "0.84",
          "0.84",
          "0.84",
          "0.84",
          "0.84",
          "0.85",
          "0.85",
          "0.85",
          "0.85",
          "0.85",
          "0.85",
          "0.85",
          "0.85",
          "0.85",
          "0.85",
          "0.85",
          "0.85",
          "0.86",
          "0.86",
          "0.86",
          "0.86",
          "0.86",
          "0.86",
          "0.86",
          "0.86",
          "0.86",
          "0.86",
          "0.86",
          "0.86",
          "0.87",
          "0.87",
          "0.87",
          "0.87",
          "0.87",
          "0.87",
          "0.87",
          "0.87",
          "0.87",
          "0.87",
          "0.87",
          "0.87",
          "0.88",
          "0.88",
          "0.88",
          "0.88",
          "0.88",
          "0.88",
          "0.88",
          "0.88",
          "0.88",
          "0.88",
          "0.88",
          "0.88",
          "0.89",
          "0.89",
          "0.89",
          "0.89",
          "0.89",
          "0.89",
          "0.89",
          "0.89",
          "0.89",
          "0.89",
          "0.89",
          "0.89",
          "0.9",
          "0.9",
          "0.9",
          "0.9",
          "0.9",
          "0.9",
          "0.9",
          "0.9",
          "0.9",
          "0.9",
          "0.9",
          "0.9",
          "0.91",
          "0.91",
          "0.91",
          "0.91",
          "0.91",
          "0.91",
          "0.91",
          "0.91",
          "0.91",
          "0.91",
          "0.91",
          "0.91",
          "0.92",
          "0.92",
          "0.92",
          "0.92",
          "0.92",
          "0.92",
          "0.92",
          "0.92",
          "0.92",
          "0.92",
          "0.92",
          "0.92",
          "0.93",
          "0.93",
          "0.93",
          "0.93",
          "0.93",
          "0.93",
          "0.93",
          "0.93",
          "0.93",
          "0.93",
          "0.93",
          "0.93",
          "0.94",
          "0.94",
          "0.94",
          "0.94",
          "0.94",
          "0.94",
          "0.94",
          "0.94",
          "0.94",
          "0.94",
          "0.94",
          "0.94",
          "0.95",
          "0.95",
          "0.95",
          "0.95",
          "0.95",
          "0.95",
          "0.95",
          "0.95",
          "0.95",
          "0.95",
          "0.95",
          "0.95",
          "0.96",
          "0.96",
          "0.96",
          "0.96",
          "0.96",
          "0.96",
          "0.96",
          "0.96",
          "0.96",
          "0.96",
          "0.96",
          "0.96",
          "0.97",
          "0.97",
          "0.97",
          "0.97",
          "0.97",
          "0.97",
          "0.97",
          "0.97",
          "0.97",
          "0.97",
          "0.97",
          "0.97",
          "0.98",
          "0.98",
          "0.98",
          "0.98",
          "0.98",
          "0.98",
          "0.98",
          "0.98",
          "0.98",
          "0.98",
          "0.98",
          "0.98",
          "0.99",
          "0.99",
          "0.99",
          "0.99",
          "0.99",
          "0.99",
          "0.99",
          "0.99",
          "0.99",
          "0.99",
          "0.99",
          "0.99",
          "1.0",
          "1.0",
          "1.0",
          "1.0",
          "1.0",
          "1.0",
          "1.0",
          "1.0",
          "1.0",
          "1.0",
          "1.0",
          "1.0",
          "1.01",
          "1.01",
          "1.01",
          "1.01",
          "1.01",
          "1.01",
          "1.01",
          "1.01",
          "1.01",
          "1.01",
          "1.01",
          "1.01",
          "1.02",
          "1.02",
          "1.02",
          "1.02",
          "1.02",
          "1.02",
          "1.02",
          "1.02",
          "1.02",
          "1.02",
          "1.02",
          "1.02",
          "1.03",
          "1.03",
          "1.03",
          "1.03",
          "1.03",
          "1.03",
          "1.03",
          "1.03",
          "1.03",
          "1.03",
          "1.03",
          "1.03",
          "1.04",
          "1.04",
          "1.04",
          "1.04",
          "1.04",
          "1.04",
          "1.04",
          "1.04",
          "1.04",
          "1.04",
          "1.04",
          "1.04",
          "1.05",
          "1.05",
          "1.05",
          "1.05",
          "1.05",
          "1.05",
          "1.05",
          "1.05",
          "1.05",
          "1.05",
          "1.05",
          "1.05",
          "1.06",
          "1.06",
          "1.06",
          "1.06",
          "1.06",
          "1.06",
          "1.06",
          "1.06",
          "1.06",
          "1.06",
          "1.06",
          "1.06",
          "1.07",
          "1.07",
          "1.07",
          "1.07",
          "1.07",
          "1.07",
          "1.07",
          "1.07",
          "1.07",
          "1.07",
          "1.07",
          "1.07",
          "1.08",
          "1.08",
          "1.08",
          "1.08",
          "1.08",
          "1.08",
          "1.08",
          "1.08",
          "1.08",
          "1.08",
          "1.08",
          "1.08",
          "1.09",
          "1.09",
          "1.09",
          "1.09",
          "1.09",
          "1.09",
          "1.09",
          "1.09",
          "1.09",
          "1.09",
          "1.09",
          "1.09",
          "1.1",
          "1.1",
          "1.1",
          "1.1",
          "1.1",
          "1.1",
          "1.1",
          "1.1",
          "1.1",
          "1.1",
          "1.1",
          "1.1",
          "1.11",
          "1.11",
          "1.11",
          "1.11",
          "1.11",
          "1.11",
          "1.11",
          "1.11",
          "1.11",
          "1.11",
          "1.11",
          "1.11",
          "1.12",
          "1.12",
          "1.12",
          "1.12",
          "1.12",
          "1.12",
          "1.12",
          "1.12",
          "1.12",
          "1.12",
          "1.12",
          "1.12",
          "1.13",
          "1.13",
          "1.13",
          "1.13",
          "1.13",
          "1.13",
          "1.13",
          "1.13",
          "1.13",
          "1.13",
          "1.13",
          "1.13",
          "1.14",
          "1.14",
          "1.14",
          "1.14",
          "1.14",
          "1.14",
          "1.14",
          "1.14",
          "1.14",
          "1.14",
          "1.14",
          "1.14",
          "1.15",
          "1.15",
          "1.15",
          "1.15",
          "1.15",
          "1.15",
          "1.15",
          "1.15",
          "1.15",
          "1.15",
          "1.15",
          "1.15",
          "1.16",
          "1.16",
          "1.16",
          "1.16",
          "1.16",
          "1.16",
          "1.16",
          "1.16",
          "1.16",
          "1.16",
          "1.16",
          "1.16",
          "1.17",
          "1.17",
          "1.17",
          "1.17",
          "1.17",
          "1.17",
          "1.17",
          "1.17",
          "1.17",
          "1.17",
          "1.17",
          "1.17",
          "1.18",
          "1.18",
          "1.18",
          "1.18",
          "1.18",
          "1.18",
          "1.18",
          "1.18",
          "1.18",
          "1.18",
          "1.18",
          "1.18",
          "1.19",
          "1.19",
          "1.19",
          "1.19",
          "1.19",
          "1.19",
          "1.19",
          "1.19",
          "1.19",
          "1.19",
          "1.19",
          "1.19",
          "1.2",
          "1.2",
          "1.2",
          "1.2",
          "1.2",
          "1.2",
          "1.2",
          "1.2",
          "1.2",
          "1.2",
          "1.2",
          "1.2",
          "1.21",
          "1.21",
          "1.21",
          "1.21",
          "1.21",
          "1.21",
          "1.21",
          "1.21",
          "1.21",
          "1.21",
          "1.21",
          "1.21",
          "1.22",
          "1.22",
          "1.22",
          "1.22",
          "1.22",
          "1.22",
          "1.22",
          "1.22",
          "1.22",
          "1.22",
          "1.22",
          "1.22",
          "1.23",
          "1.23",
          "1.23",
          "1.23",
          "1.23",
          "1.23",
          "1.23",
          "1.23",
          "1.23",
          "1.23",
          "1.23",
          "1.23",
          "1.24",
          "1.24",
          "1.24",
          "1.24",
          "1.24",
          "1.24",
          "1.24",
          "1.24",
          "1.24",
          "1.24",
          "1.24",
          "1.24"
         ],
         "x0": " ",
         "xaxis": "x",
         "y": [
          1,
          1,
          2,
          0,
          3,
          0,
          2,
          3,
          2,
          1,
          1,
          4,
          0,
          0,
          2,
          0,
          1,
          0,
          0,
          0,
          0,
          0,
          2,
          0,
          0,
          0,
          1,
          2,
          0,
          2,
          2,
          1,
          2,
          1,
          4,
          4,
          2,
          1,
          1,
          1,
          2,
          4,
          3,
          1,
          1,
          3,
          0,
          2,
          2,
          1,
          2,
          3,
          4,
          2,
          1,
          3,
          2,
          5,
          1,
          5,
          2,
          3,
          1,
          2,
          2,
          3,
          1,
          0,
          4,
          1,
          2,
          6,
          4,
          4,
          3,
          4,
          2,
          5,
          7,
          1,
          6,
          3,
          4,
          2,
          7,
          2,
          4,
          0,
          4,
          4,
          5,
          5,
          2,
          2,
          1,
          1,
          6,
          4,
          4,
          2,
          8,
          6,
          9,
          12,
          4,
          7,
          2,
          5,
          12,
          9,
          12,
          9,
          7,
          12,
          12,
          6,
          11,
          12,
          6,
          8,
          10,
          9,
          7,
          7,
          11,
          7,
          10,
          11,
          11,
          12,
          8,
          10,
          12,
          13,
          12,
          17,
          10,
          14,
          9,
          6,
          7,
          19,
          11,
          8,
          11,
          12,
          15,
          16,
          14,
          14,
          13,
          9,
          13,
          22,
          19,
          14,
          23,
          19,
          10,
          24,
          16,
          17,
          15,
          20,
          12,
          20,
          13,
          17,
          13,
          24,
          22,
          19,
          24,
          13,
          20,
          21,
          18,
          11,
          22,
          16,
          32,
          30,
          27,
          22,
          25,
          24,
          15,
          29,
          21,
          26,
          24,
          20,
          31,
          29,
          33,
          30,
          24,
          35,
          36,
          31,
          24,
          17,
          32,
          26,
          23,
          25,
          34,
          29,
          29,
          25,
          30,
          26,
          31,
          34,
          35,
          23,
          37,
          33,
          38,
          40,
          32,
          36,
          42,
          42,
          36,
          25,
          36,
          45,
          42,
          43,
          25,
          42,
          33,
          43,
          50,
          43,
          28,
          32,
          37,
          40,
          32,
          40,
          39,
          36,
          38,
          31,
          41,
          29,
          46,
          40,
          37,
          39,
          42,
          44,
          46,
          37,
          36,
          38,
          50,
          44,
          49,
          48,
          39,
          41,
          42,
          51,
          41,
          57,
          46,
          46,
          34,
          51,
          50,
          58,
          53,
          43,
          46,
          45,
          38,
          40,
          44,
          43,
          36,
          34,
          53,
          44,
          46,
          58,
          48,
          38,
          51,
          40,
          59,
          54,
          38,
          51,
          42,
          44,
          47,
          42,
          41,
          35,
          47,
          47,
          56,
          43,
          41,
          50,
          43,
          37,
          45,
          51,
          46,
          41,
          48,
          47,
          49,
          52,
          46,
          50,
          38,
          52,
          45,
          41,
          57,
          46,
          35,
          48,
          50,
          47,
          49,
          41,
          50,
          42,
          46,
          49,
          44,
          46,
          39,
          34,
          29,
          35,
          58,
          50,
          38,
          38,
          31,
          34,
          36,
          42,
          40,
          39,
          50,
          38,
          39,
          26,
          50,
          44,
          31,
          44,
          27,
          33,
          49,
          29,
          26,
          39,
          37,
          33,
          33,
          29,
          47,
          27,
          28,
          26,
          36,
          36,
          33,
          38,
          34,
          33,
          28,
          27,
          40,
          34,
          28,
          36,
          38,
          31,
          30,
          34,
          36,
          32,
          23,
          28,
          27,
          32,
          36,
          23,
          22,
          31,
          32,
          32,
          22,
          29,
          33,
          41,
          31,
          23,
          29,
          26,
          25,
          32,
          30,
          25,
          18,
          19,
          24,
          27,
          25,
          28,
          26,
          23,
          16,
          19,
          16,
          19,
          16,
          27,
          27,
          24,
          28,
          31,
          17,
          21,
          15,
          11,
          14,
          10,
          18,
          15,
          25,
          22,
          22,
          30,
          11,
          25,
          17,
          23,
          14,
          22,
          28,
          17,
          22,
          19,
          12,
          19,
          23,
          15,
          16,
          10,
          12,
          21,
          11,
          18,
          12,
          17,
          14,
          10,
          15,
          10,
          14,
          15,
          13,
          12,
          11,
          16,
          20,
          10,
          11,
          11,
          11,
          11,
          13,
          12,
          21,
          10,
          12,
          8,
          10,
          11,
          8,
          13,
          10,
          8,
          15,
          10,
          9,
          5,
          7,
          15,
          7,
          9,
          9,
          8,
          9,
          13,
          8,
          12,
          10,
          9,
          4,
          7,
          8,
          8,
          11,
          9,
          5,
          11,
          5,
          9,
          5,
          8,
          4,
          6,
          7,
          5,
          6,
          3,
          4,
          8,
          10,
          8,
          5,
          6,
          6,
          9,
          11,
          0,
          2,
          10,
          5,
          3,
          5,
          5,
          4,
          3,
          7,
          6,
          1,
          6,
          7,
          1,
          3,
          3,
          3,
          4,
          2,
          4,
          2,
          2,
          6,
          4,
          6,
          2,
          4,
          3,
          3,
          3,
          7,
          3,
          3,
          2,
          2,
          2,
          2,
          1,
          1,
          1,
          1,
          2,
          2,
          1,
          3,
          3,
          3,
          3,
          3,
          2,
          4,
          11,
          10,
          4,
          7,
          6,
          7,
          7,
          4,
          8,
          9,
          8
         ],
         "y0": " ",
         "yaxis": "y"
        }
       ],
       "layout": {
        "boxmode": "group",
        "legend": {
         "tracegroupgap": 0
        },
        "margin": {
         "t": 60
        },
        "template": {
         "data": {
          "bar": [
           {
            "error_x": {
             "color": "#2a3f5f"
            },
            "error_y": {
             "color": "#2a3f5f"
            },
            "marker": {
             "line": {
              "color": "#E5ECF6",
              "width": 0.5
             },
             "pattern": {
              "fillmode": "overlay",
              "size": 10,
              "solidity": 0.2
             }
            },
            "type": "bar"
           }
          ],
          "barpolar": [
           {
            "marker": {
             "line": {
              "color": "#E5ECF6",
              "width": 0.5
             },
             "pattern": {
              "fillmode": "overlay",
              "size": 10,
              "solidity": 0.2
             }
            },
            "type": "barpolar"
           }
          ],
          "carpet": [
           {
            "aaxis": {
             "endlinecolor": "#2a3f5f",
             "gridcolor": "white",
             "linecolor": "white",
             "minorgridcolor": "white",
             "startlinecolor": "#2a3f5f"
            },
            "baxis": {
             "endlinecolor": "#2a3f5f",
             "gridcolor": "white",
             "linecolor": "white",
             "minorgridcolor": "white",
             "startlinecolor": "#2a3f5f"
            },
            "type": "carpet"
           }
          ],
          "choropleth": [
           {
            "colorbar": {
             "outlinewidth": 0,
             "ticks": ""
            },
            "type": "choropleth"
           }
          ],
          "contour": [
           {
            "colorbar": {
             "outlinewidth": 0,
             "ticks": ""
            },
            "colorscale": [
             [
              0,
              "#0d0887"
             ],
             [
              0.1111111111111111,
              "#46039f"
             ],
             [
              0.2222222222222222,
              "#7201a8"
             ],
             [
              0.3333333333333333,
              "#9c179e"
             ],
             [
              0.4444444444444444,
              "#bd3786"
             ],
             [
              0.5555555555555556,
              "#d8576b"
             ],
             [
              0.6666666666666666,
              "#ed7953"
             ],
             [
              0.7777777777777778,
              "#fb9f3a"
             ],
             [
              0.8888888888888888,
              "#fdca26"
             ],
             [
              1,
              "#f0f921"
             ]
            ],
            "type": "contour"
           }
          ],
          "contourcarpet": [
           {
            "colorbar": {
             "outlinewidth": 0,
             "ticks": ""
            },
            "type": "contourcarpet"
           }
          ],
          "heatmap": [
           {
            "colorbar": {
             "outlinewidth": 0,
             "ticks": ""
            },
            "colorscale": [
             [
              0,
              "#0d0887"
             ],
             [
              0.1111111111111111,
              "#46039f"
             ],
             [
              0.2222222222222222,
              "#7201a8"
             ],
             [
              0.3333333333333333,
              "#9c179e"
             ],
             [
              0.4444444444444444,
              "#bd3786"
             ],
             [
              0.5555555555555556,
              "#d8576b"
             ],
             [
              0.6666666666666666,
              "#ed7953"
             ],
             [
              0.7777777777777778,
              "#fb9f3a"
             ],
             [
              0.8888888888888888,
              "#fdca26"
             ],
             [
              1,
              "#f0f921"
             ]
            ],
            "type": "heatmap"
           }
          ],
          "heatmapgl": [
           {
            "colorbar": {
             "outlinewidth": 0,
             "ticks": ""
            },
            "colorscale": [
             [
              0,
              "#0d0887"
             ],
             [
              0.1111111111111111,
              "#46039f"
             ],
             [
              0.2222222222222222,
              "#7201a8"
             ],
             [
              0.3333333333333333,
              "#9c179e"
             ],
             [
              0.4444444444444444,
              "#bd3786"
             ],
             [
              0.5555555555555556,
              "#d8576b"
             ],
             [
              0.6666666666666666,
              "#ed7953"
             ],
             [
              0.7777777777777778,
              "#fb9f3a"
             ],
             [
              0.8888888888888888,
              "#fdca26"
             ],
             [
              1,
              "#f0f921"
             ]
            ],
            "type": "heatmapgl"
           }
          ],
          "histogram": [
           {
            "marker": {
             "pattern": {
              "fillmode": "overlay",
              "size": 10,
              "solidity": 0.2
             }
            },
            "type": "histogram"
           }
          ],
          "histogram2d": [
           {
            "colorbar": {
             "outlinewidth": 0,
             "ticks": ""
            },
            "colorscale": [
             [
              0,
              "#0d0887"
             ],
             [
              0.1111111111111111,
              "#46039f"
             ],
             [
              0.2222222222222222,
              "#7201a8"
             ],
             [
              0.3333333333333333,
              "#9c179e"
             ],
             [
              0.4444444444444444,
              "#bd3786"
             ],
             [
              0.5555555555555556,
              "#d8576b"
             ],
             [
              0.6666666666666666,
              "#ed7953"
             ],
             [
              0.7777777777777778,
              "#fb9f3a"
             ],
             [
              0.8888888888888888,
              "#fdca26"
             ],
             [
              1,
              "#f0f921"
             ]
            ],
            "type": "histogram2d"
           }
          ],
          "histogram2dcontour": [
           {
            "colorbar": {
             "outlinewidth": 0,
             "ticks": ""
            },
            "colorscale": [
             [
              0,
              "#0d0887"
             ],
             [
              0.1111111111111111,
              "#46039f"
             ],
             [
              0.2222222222222222,
              "#7201a8"
             ],
             [
              0.3333333333333333,
              "#9c179e"
             ],
             [
              0.4444444444444444,
              "#bd3786"
             ],
             [
              0.5555555555555556,
              "#d8576b"
             ],
             [
              0.6666666666666666,
              "#ed7953"
             ],
             [
              0.7777777777777778,
              "#fb9f3a"
             ],
             [
              0.8888888888888888,
              "#fdca26"
             ],
             [
              1,
              "#f0f921"
             ]
            ],
            "type": "histogram2dcontour"
           }
          ],
          "mesh3d": [
           {
            "colorbar": {
             "outlinewidth": 0,
             "ticks": ""
            },
            "type": "mesh3d"
           }
          ],
          "parcoords": [
           {
            "line": {
             "colorbar": {
              "outlinewidth": 0,
              "ticks": ""
             }
            },
            "type": "parcoords"
           }
          ],
          "pie": [
           {
            "automargin": true,
            "type": "pie"
           }
          ],
          "scatter": [
           {
            "fillpattern": {
             "fillmode": "overlay",
             "size": 10,
             "solidity": 0.2
            },
            "type": "scatter"
           }
          ],
          "scatter3d": [
           {
            "line": {
             "colorbar": {
              "outlinewidth": 0,
              "ticks": ""
             }
            },
            "marker": {
             "colorbar": {
              "outlinewidth": 0,
              "ticks": ""
             }
            },
            "type": "scatter3d"
           }
          ],
          "scattercarpet": [
           {
            "marker": {
             "colorbar": {
              "outlinewidth": 0,
              "ticks": ""
             }
            },
            "type": "scattercarpet"
           }
          ],
          "scattergeo": [
           {
            "marker": {
             "colorbar": {
              "outlinewidth": 0,
              "ticks": ""
             }
            },
            "type": "scattergeo"
           }
          ],
          "scattergl": [
           {
            "marker": {
             "colorbar": {
              "outlinewidth": 0,
              "ticks": ""
             }
            },
            "type": "scattergl"
           }
          ],
          "scattermapbox": [
           {
            "marker": {
             "colorbar": {
              "outlinewidth": 0,
              "ticks": ""
             }
            },
            "type": "scattermapbox"
           }
          ],
          "scatterpolar": [
           {
            "marker": {
             "colorbar": {
              "outlinewidth": 0,
              "ticks": ""
             }
            },
            "type": "scatterpolar"
           }
          ],
          "scatterpolargl": [
           {
            "marker": {
             "colorbar": {
              "outlinewidth": 0,
              "ticks": ""
             }
            },
            "type": "scatterpolargl"
           }
          ],
          "scatterternary": [
           {
            "marker": {
             "colorbar": {
              "outlinewidth": 0,
              "ticks": ""
             }
            },
            "type": "scatterternary"
           }
          ],
          "surface": [
           {
            "colorbar": {
             "outlinewidth": 0,
             "ticks": ""
            },
            "colorscale": [
             [
              0,
              "#0d0887"
             ],
             [
              0.1111111111111111,
              "#46039f"
             ],
             [
              0.2222222222222222,
              "#7201a8"
             ],
             [
              0.3333333333333333,
              "#9c179e"
             ],
             [
              0.4444444444444444,
              "#bd3786"
             ],
             [
              0.5555555555555556,
              "#d8576b"
             ],
             [
              0.6666666666666666,
              "#ed7953"
             ],
             [
              0.7777777777777778,
              "#fb9f3a"
             ],
             [
              0.8888888888888888,
              "#fdca26"
             ],
             [
              1,
              "#f0f921"
             ]
            ],
            "type": "surface"
           }
          ],
          "table": [
           {
            "cells": {
             "fill": {
              "color": "#EBF0F8"
             },
             "line": {
              "color": "white"
             }
            },
            "header": {
             "fill": {
              "color": "#C8D4E3"
             },
             "line": {
              "color": "white"
             }
            },
            "type": "table"
           }
          ]
         },
         "layout": {
          "annotationdefaults": {
           "arrowcolor": "#2a3f5f",
           "arrowhead": 0,
           "arrowwidth": 1
          },
          "autotypenumbers": "strict",
          "coloraxis": {
           "colorbar": {
            "outlinewidth": 0,
            "ticks": ""
           }
          },
          "colorscale": {
           "diverging": [
            [
             0,
             "#8e0152"
            ],
            [
             0.1,
             "#c51b7d"
            ],
            [
             0.2,
             "#de77ae"
            ],
            [
             0.3,
             "#f1b6da"
            ],
            [
             0.4,
             "#fde0ef"
            ],
            [
             0.5,
             "#f7f7f7"
            ],
            [
             0.6,
             "#e6f5d0"
            ],
            [
             0.7,
             "#b8e186"
            ],
            [
             0.8,
             "#7fbc41"
            ],
            [
             0.9,
             "#4d9221"
            ],
            [
             1,
             "#276419"
            ]
           ],
           "sequential": [
            [
             0,
             "#0d0887"
            ],
            [
             0.1111111111111111,
             "#46039f"
            ],
            [
             0.2222222222222222,
             "#7201a8"
            ],
            [
             0.3333333333333333,
             "#9c179e"
            ],
            [
             0.4444444444444444,
             "#bd3786"
            ],
            [
             0.5555555555555556,
             "#d8576b"
            ],
            [
             0.6666666666666666,
             "#ed7953"
            ],
            [
             0.7777777777777778,
             "#fb9f3a"
            ],
            [
             0.8888888888888888,
             "#fdca26"
            ],
            [
             1,
             "#f0f921"
            ]
           ],
           "sequentialminus": [
            [
             0,
             "#0d0887"
            ],
            [
             0.1111111111111111,
             "#46039f"
            ],
            [
             0.2222222222222222,
             "#7201a8"
            ],
            [
             0.3333333333333333,
             "#9c179e"
            ],
            [
             0.4444444444444444,
             "#bd3786"
            ],
            [
             0.5555555555555556,
             "#d8576b"
            ],
            [
             0.6666666666666666,
             "#ed7953"
            ],
            [
             0.7777777777777778,
             "#fb9f3a"
            ],
            [
             0.8888888888888888,
             "#fdca26"
            ],
            [
             1,
             "#f0f921"
            ]
           ]
          },
          "colorway": [
           "#636efa",
           "#EF553B",
           "#00cc96",
           "#ab63fa",
           "#FFA15A",
           "#19d3f3",
           "#FF6692",
           "#B6E880",
           "#FF97FF",
           "#FECB52"
          ],
          "font": {
           "color": "#2a3f5f"
          },
          "geo": {
           "bgcolor": "white",
           "lakecolor": "white",
           "landcolor": "#E5ECF6",
           "showlakes": true,
           "showland": true,
           "subunitcolor": "white"
          },
          "hoverlabel": {
           "align": "left"
          },
          "hovermode": "closest",
          "mapbox": {
           "style": "light"
          },
          "paper_bgcolor": "white",
          "plot_bgcolor": "#E5ECF6",
          "polar": {
           "angularaxis": {
            "gridcolor": "white",
            "linecolor": "white",
            "ticks": ""
           },
           "bgcolor": "#E5ECF6",
           "radialaxis": {
            "gridcolor": "white",
            "linecolor": "white",
            "ticks": ""
           }
          },
          "scene": {
           "xaxis": {
            "backgroundcolor": "#E5ECF6",
            "gridcolor": "white",
            "gridwidth": 2,
            "linecolor": "white",
            "showbackground": true,
            "ticks": "",
            "zerolinecolor": "white"
           },
           "yaxis": {
            "backgroundcolor": "#E5ECF6",
            "gridcolor": "white",
            "gridwidth": 2,
            "linecolor": "white",
            "showbackground": true,
            "ticks": "",
            "zerolinecolor": "white"
           },
           "zaxis": {
            "backgroundcolor": "#E5ECF6",
            "gridcolor": "white",
            "gridwidth": 2,
            "linecolor": "white",
            "showbackground": true,
            "ticks": "",
            "zerolinecolor": "white"
           }
          },
          "shapedefaults": {
           "line": {
            "color": "#2a3f5f"
           }
          },
          "ternary": {
           "aaxis": {
            "gridcolor": "white",
            "linecolor": "white",
            "ticks": ""
           },
           "baxis": {
            "gridcolor": "white",
            "linecolor": "white",
            "ticks": ""
           },
           "bgcolor": "#E5ECF6",
           "caxis": {
            "gridcolor": "white",
            "linecolor": "white",
            "ticks": ""
           }
          },
          "title": {
           "x": 0.05
          },
          "xaxis": {
           "automargin": true,
           "gridcolor": "white",
           "linecolor": "white",
           "ticks": "",
           "title": {
            "standoff": 15
           },
           "zerolinecolor": "white",
           "zerolinewidth": 2
          },
          "yaxis": {
           "automargin": true,
           "gridcolor": "white",
           "linecolor": "white",
           "ticks": "",
           "title": {
            "standoff": 15
           },
           "zerolinecolor": "white",
           "zerolinewidth": 2
          }
         }
        },
        "title": {
         "text": "Relative yield distribution box plot (all-years)"
        },
        "xaxis": {
         "anchor": "y",
         "domain": [
          0,
          1
         ],
         "dtick": 5,
         "title": {
          "text": "Yield (relative to yearly P50)"
         }
        },
        "yaxis": {
         "anchor": "x",
         "domain": [
          0,
          1
         ],
         "title": {
          "text": "Frequency"
         }
        }
       }
      }
     },
     "metadata": {},
     "output_type": "display_data"
    },
    {
     "data": {
      "text/html": [
       "<div>\n",
       "<style scoped>\n",
       "    .dataframe tbody tr th:only-of-type {\n",
       "        vertical-align: middle;\n",
       "    }\n",
       "\n",
       "    .dataframe tbody tr th {\n",
       "        vertical-align: top;\n",
       "    }\n",
       "\n",
       "    .dataframe thead th {\n",
       "        text-align: right;\n",
       "    }\n",
       "</style>\n",
       "<table border=\"1\" class=\"dataframe\">\n",
       "  <thead>\n",
       "    <tr style=\"text-align: right;\">\n",
       "      <th>P_value</th>\n",
       "      <th>P50</th>\n",
       "      <th>P90</th>\n",
       "      <th>P95</th>\n",
       "    </tr>\n",
       "    <tr>\n",
       "      <th>Year</th>\n",
       "      <th></th>\n",
       "      <th></th>\n",
       "      <th></th>\n",
       "    </tr>\n",
       "  </thead>\n",
       "  <tbody>\n",
       "    <tr>\n",
       "      <th>1</th>\n",
       "      <td>1.0</td>\n",
       "      <td>0.891478</td>\n",
       "      <td>0.859340</td>\n",
       "    </tr>\n",
       "    <tr>\n",
       "      <th>2</th>\n",
       "      <td>1.0</td>\n",
       "      <td>0.893447</td>\n",
       "      <td>0.872333</td>\n",
       "    </tr>\n",
       "    <tr>\n",
       "      <th>3</th>\n",
       "      <td>1.0</td>\n",
       "      <td>0.895356</td>\n",
       "      <td>0.864272</td>\n",
       "    </tr>\n",
       "    <tr>\n",
       "      <th>4</th>\n",
       "      <td>1.0</td>\n",
       "      <td>0.890738</td>\n",
       "      <td>0.866868</td>\n",
       "    </tr>\n",
       "    <tr>\n",
       "      <th>5</th>\n",
       "      <td>1.0</td>\n",
       "      <td>0.892910</td>\n",
       "      <td>0.860155</td>\n",
       "    </tr>\n",
       "    <tr>\n",
       "      <th>6</th>\n",
       "      <td>1.0</td>\n",
       "      <td>0.892761</td>\n",
       "      <td>0.857772</td>\n",
       "    </tr>\n",
       "    <tr>\n",
       "      <th>7</th>\n",
       "      <td>1.0</td>\n",
       "      <td>0.893063</td>\n",
       "      <td>0.852402</td>\n",
       "    </tr>\n",
       "    <tr>\n",
       "      <th>8</th>\n",
       "      <td>1.0</td>\n",
       "      <td>0.895399</td>\n",
       "      <td>0.866111</td>\n",
       "    </tr>\n",
       "    <tr>\n",
       "      <th>9</th>\n",
       "      <td>1.0</td>\n",
       "      <td>0.898133</td>\n",
       "      <td>0.864564</td>\n",
       "    </tr>\n",
       "    <tr>\n",
       "      <th>10</th>\n",
       "      <td>1.0</td>\n",
       "      <td>0.881101</td>\n",
       "      <td>0.856760</td>\n",
       "    </tr>\n",
       "    <tr>\n",
       "      <th>11</th>\n",
       "      <td>1.0</td>\n",
       "      <td>0.897450</td>\n",
       "      <td>0.869858</td>\n",
       "    </tr>\n",
       "    <tr>\n",
       "      <th>12</th>\n",
       "      <td>1.0</td>\n",
       "      <td>0.893837</td>\n",
       "      <td>0.858637</td>\n",
       "    </tr>\n",
       "  </tbody>\n",
       "</table>\n",
       "</div>"
      ],
      "text/plain": [
       "P_value  P50       P90       P95\n",
       "Year                            \n",
       "1        1.0  0.891478  0.859340\n",
       "2        1.0  0.893447  0.872333\n",
       "3        1.0  0.895356  0.864272\n",
       "4        1.0  0.890738  0.866868\n",
       "5        1.0  0.892910  0.860155\n",
       "6        1.0  0.892761  0.857772\n",
       "7        1.0  0.893063  0.852402\n",
       "8        1.0  0.895399  0.866111\n",
       "9        1.0  0.898133  0.864564\n",
       "10       1.0  0.881101  0.856760\n",
       "11       1.0  0.897450  0.869858\n",
       "12       1.0  0.893837  0.858637"
      ]
     },
     "execution_count": 110,
     "metadata": {},
     "output_type": "execute_result"
    }
   ],
   "source": [
    "# Example: Plot a box plot of all years' relative yield distributions\n",
    "fig = px.box(yearly_hist_df)\n",
    "fig.update_layout(\n",
    "    title=f\"Relative yield distribution box plot{' (all-years)' if N_YEARS > 1 else '(single year)'}\",\n",
    "    xaxis_title=\"Yield (relative to yearly P50)\",\n",
    "    yaxis_title=\"Frequency\"\n",
    ")\n",
    "fig.update_xaxes(dtick=5)\n",
    "fig.show()\n",
    "yearly_p_df"
   ]
  }
 ],
 "metadata": {
  "colab": {
   "provenance": [
    {
     "file_id": "1uejlEdwyHqixTw9Dp3oYArjU6sKN8-th",
     "timestamp": 1754944624735
    }
   ]
  },
  "kernelspec": {
   "display_name": "base",
   "language": "python",
   "name": "python3"
  },
  "language_info": {
   "codemirror_mode": {
    "name": "ipython",
    "version": 3
   },
   "file_extension": ".py",
   "mimetype": "text/x-python",
   "name": "python",
   "nbconvert_exporter": "python",
   "pygments_lexer": "ipython3",
   "version": "3.13.5"
  },
  "widgets": {
   "application/vnd.jupyter.widget-state+json": {
    "01566dea1e754185b5eb6be57fb3e65d": {
     "model_module": "@jupyter-widgets/controls",
     "model_module_version": "1.5.0",
     "model_name": "DescriptionStyleModel",
     "state": {
      "_model_module": "@jupyter-widgets/controls",
      "_model_module_version": "1.5.0",
      "_model_name": "DescriptionStyleModel",
      "_view_count": null,
      "_view_module": "@jupyter-widgets/base",
      "_view_module_version": "1.2.0",
      "_view_name": "StyleView",
      "description_width": ""
     }
    },
    "01cca1f76dfc469f9abb9ba3c2a2ca7d": {
     "model_module": "@jupyter-widgets/controls",
     "model_module_version": "1.5.0",
     "model_name": "FloatTextModel",
     "state": {
      "_dom_classes": [],
      "_model_module": "@jupyter-widgets/controls",
      "_model_module_version": "1.5.0",
      "_model_name": "FloatTextModel",
      "_view_count": null,
      "_view_module": "@jupyter-widgets/controls",
      "_view_module_version": "1.5.0",
      "_view_name": "FloatTextView",
      "continuous_update": false,
      "description": "value:",
      "description_tooltip": null,
      "disabled": false,
      "layout": "IPY_MODEL_634fbed189ae4b0ba539ace26e36dfca",
      "step": 0.1,
      "style": "IPY_MODEL_d7ee9756ee9343ebad76c82bed42642d",
      "value": 1
     }
    },
    "03cfe615c9fe4f618f541782cbc243ff": {
     "model_module": "@jupyter-widgets/controls",
     "model_module_version": "1.5.0",
     "model_name": "FloatTextModel",
     "state": {
      "_dom_classes": [],
      "_model_module": "@jupyter-widgets/controls",
      "_model_module_version": "1.5.0",
      "_model_name": "FloatTextModel",
      "_view_count": null,
      "_view_module": "@jupyter-widgets/controls",
      "_view_module_version": "1.5.0",
      "_view_name": "FloatTextView",
      "continuous_update": false,
      "description": "x_max:",
      "description_tooltip": null,
      "disabled": false,
      "layout": "IPY_MODEL_404c8f29aad145f89cddc0e8fbc241b0",
      "step": 0.1,
      "style": "IPY_MODEL_5b50c46b7d3a4eea8a7fdf495659274e",
      "value": 2
     }
    },
    "04ecb642cccc4837baa99f00522a447a": {
     "model_module": "@jupyter-widgets/controls",
     "model_module_version": "1.5.0",
     "model_name": "DescriptionStyleModel",
     "state": {
      "_model_module": "@jupyter-widgets/controls",
      "_model_module_version": "1.5.0",
      "_model_name": "DescriptionStyleModel",
      "_view_count": null,
      "_view_module": "@jupyter-widgets/base",
      "_view_module_version": "1.2.0",
      "_view_name": "StyleView",
      "description_width": ""
     }
    },
    "0c17d50bd63f40af98f2fe7437704117": {
     "model_module": "@jupyter-widgets/base",
     "model_module_version": "1.2.0",
     "model_name": "LayoutModel",
     "state": {
      "_model_module": "@jupyter-widgets/base",
      "_model_module_version": "1.2.0",
      "_model_name": "LayoutModel",
      "_view_count": null,
      "_view_module": "@jupyter-widgets/base",
      "_view_module_version": "1.2.0",
      "_view_name": "LayoutView",
      "align_content": null,
      "align_items": null,
      "align_self": null,
      "border": null,
      "bottom": null,
      "display": "none",
      "flex": null,
      "flex_flow": null,
      "grid_area": null,
      "grid_auto_columns": null,
      "grid_auto_flow": null,
      "grid_auto_rows": null,
      "grid_column": null,
      "grid_gap": null,
      "grid_row": null,
      "grid_template_areas": null,
      "grid_template_columns": null,
      "grid_template_rows": null,
      "height": null,
      "justify_content": null,
      "justify_items": null,
      "left": null,
      "margin": null,
      "max_height": null,
      "max_width": null,
      "min_height": null,
      "min_width": null,
      "object_fit": null,
      "object_position": null,
      "order": null,
      "overflow": null,
      "overflow_x": null,
      "overflow_y": null,
      "padding": null,
      "right": null,
      "top": null,
      "visibility": null,
      "width": "70%"
     }
    },
    "0dd1f17d8fde4a1c80a30ffadd3f1c67": {
     "model_module": "@jupyter-widgets/controls",
     "model_module_version": "1.5.0",
     "model_name": "DescriptionStyleModel",
     "state": {
      "_model_module": "@jupyter-widgets/controls",
      "_model_module_version": "1.5.0",
      "_model_name": "DescriptionStyleModel",
      "_view_count": null,
      "_view_module": "@jupyter-widgets/base",
      "_view_module_version": "1.2.0",
      "_view_name": "StyleView",
      "description_width": ""
     }
    },
    "12c2126172ae40ef948547b3dfd763b1": {
     "model_module": "@jupyter-widgets/controls",
     "model_module_version": "1.5.0",
     "model_name": "FloatTextModel",
     "state": {
      "_dom_classes": [],
      "_model_module": "@jupyter-widgets/controls",
      "_model_module_version": "1.5.0",
      "_model_name": "FloatTextModel",
      "_view_count": null,
      "_view_module": "@jupyter-widgets/controls",
      "_view_module_version": "1.5.0",
      "_view_name": "FloatTextView",
      "continuous_update": false,
      "description": "x_min:",
      "description_tooltip": null,
      "disabled": false,
      "layout": "IPY_MODEL_8b615f133dbc492b95780e2096cfe179",
      "step": 0.1,
      "style": "IPY_MODEL_9ab92614c9d24cdf962912fbb42fc58c",
      "value": 0
     }
    },
    "17b6047d99d34076b59ee6cf696900ad": {
     "model_module": "@jupyter-widgets/controls",
     "model_module_version": "1.5.0",
     "model_name": "IntSliderModel",
     "state": {
      "_dom_classes": [],
      "_model_module": "@jupyter-widgets/controls",
      "_model_module_version": "1.5.0",
      "_model_name": "IntSliderModel",
      "_view_count": null,
      "_view_module": "@jupyter-widgets/controls",
      "_view_module_version": "1.5.0",
      "_view_name": "IntSliderView",
      "continuous_update": true,
      "description": "Day of year:",
      "description_tooltip": null,
      "disabled": false,
      "layout": "IPY_MODEL_85f9e286b65a4fac8c81511ba7ea4886",
      "max": 365,
      "min": 1,
      "orientation": "horizontal",
      "readout": true,
      "readout_format": "d",
      "step": 1,
      "style": "IPY_MODEL_497e22a63315470e8cd894a82b081b1a",
      "value": 57
     }
    },
    "1f510be95d43417b820c678ba091b352": {
     "model_module": "@jupyter-widgets/base",
     "model_module_version": "1.2.0",
     "model_name": "LayoutModel",
     "state": {
      "_model_module": "@jupyter-widgets/base",
      "_model_module_version": "1.2.0",
      "_model_name": "LayoutModel",
      "_view_count": null,
      "_view_module": "@jupyter-widgets/base",
      "_view_module_version": "1.2.0",
      "_view_name": "LayoutView",
      "align_content": null,
      "align_items": null,
      "align_self": null,
      "border": null,
      "bottom": null,
      "display": "",
      "flex": null,
      "flex_flow": null,
      "grid_area": null,
      "grid_auto_columns": null,
      "grid_auto_flow": null,
      "grid_auto_rows": null,
      "grid_column": null,
      "grid_gap": null,
      "grid_row": null,
      "grid_template_areas": null,
      "grid_template_columns": null,
      "grid_template_rows": null,
      "height": null,
      "justify_content": null,
      "justify_items": null,
      "left": null,
      "margin": null,
      "max_height": null,
      "max_width": null,
      "min_height": null,
      "min_width": null,
      "object_fit": null,
      "object_position": null,
      "order": null,
      "overflow": null,
      "overflow_x": null,
      "overflow_y": null,
      "padding": null,
      "right": null,
      "top": null,
      "visibility": null,
      "width": "70%"
     }
    },
    "1fe7cbca377f495fadfff511a2d1f835": {
     "model_module": "@jupyter-widgets/controls",
     "model_module_version": "1.5.0",
     "model_name": "VBoxModel",
     "state": {
      "_dom_classes": [],
      "_model_module": "@jupyter-widgets/controls",
      "_model_module_version": "1.5.0",
      "_model_name": "VBoxModel",
      "_view_count": null,
      "_view_module": "@jupyter-widgets/controls",
      "_view_module_version": "1.5.0",
      "_view_name": "VBoxView",
      "box_style": "",
      "children": [
       "IPY_MODEL_c9e5cf0c56f34ad7b481171a9243f849",
       "IPY_MODEL_a9406355b3564238978c82a7f0465441"
      ],
      "layout": "IPY_MODEL_bab86dd017c54823b01de015a91dbabb"
     }
    },
    "268ef1e7025d48feb91a9fcbe6656c33": {
     "model_module": "@jupyter-widgets/base",
     "model_module_version": "1.2.0",
     "model_name": "LayoutModel",
     "state": {
      "_model_module": "@jupyter-widgets/base",
      "_model_module_version": "1.2.0",
      "_model_name": "LayoutModel",
      "_view_count": null,
      "_view_module": "@jupyter-widgets/base",
      "_view_module_version": "1.2.0",
      "_view_name": "LayoutView",
      "align_content": null,
      "align_items": null,
      "align_self": null,
      "border": null,
      "bottom": null,
      "display": null,
      "flex": null,
      "flex_flow": null,
      "grid_area": null,
      "grid_auto_columns": null,
      "grid_auto_flow": null,
      "grid_auto_rows": null,
      "grid_column": null,
      "grid_gap": null,
      "grid_row": null,
      "grid_template_areas": null,
      "grid_template_columns": null,
      "grid_template_rows": null,
      "height": null,
      "justify_content": null,
      "justify_items": null,
      "left": null,
      "margin": null,
      "max_height": null,
      "max_width": null,
      "min_height": null,
      "min_width": null,
      "object_fit": null,
      "object_position": null,
      "order": null,
      "overflow": null,
      "overflow_x": null,
      "overflow_y": null,
      "padding": null,
      "right": null,
      "top": null,
      "visibility": null,
      "width": null
     }
    },
    "2a28907842f4428e9f397618fde49977": {
     "model_module": "@jupyter-widgets/controls",
     "model_module_version": "1.5.0",
     "model_name": "VBoxModel",
     "state": {
      "_dom_classes": [],
      "_model_module": "@jupyter-widgets/controls",
      "_model_module_version": "1.5.0",
      "_model_name": "VBoxModel",
      "_view_count": null,
      "_view_module": "@jupyter-widgets/controls",
      "_view_module_version": "1.5.0",
      "_view_name": "VBoxView",
      "box_style": "",
      "children": [
       "IPY_MODEL_1fe7cbca377f495fadfff511a2d1f835",
       "IPY_MODEL_cfdabd99ee58480aa0932b86d76233a9",
       "IPY_MODEL_e89c8ce23aef480882a73508e4cadf0f"
      ],
      "layout": "IPY_MODEL_268ef1e7025d48feb91a9fcbe6656c33"
     }
    },
    "31f84b4b7a914739b1ed4061be49f479": {
     "model_module": "@jupyter-widgets/base",
     "model_module_version": "1.2.0",
     "model_name": "LayoutModel",
     "state": {
      "_model_module": "@jupyter-widgets/base",
      "_model_module_version": "1.2.0",
      "_model_name": "LayoutModel",
      "_view_count": null,
      "_view_module": "@jupyter-widgets/base",
      "_view_module_version": "1.2.0",
      "_view_name": "LayoutView",
      "align_content": null,
      "align_items": null,
      "align_self": null,
      "border": null,
      "bottom": null,
      "display": null,
      "flex": null,
      "flex_flow": null,
      "grid_area": null,
      "grid_auto_columns": null,
      "grid_auto_flow": null,
      "grid_auto_rows": null,
      "grid_column": null,
      "grid_gap": null,
      "grid_row": null,
      "grid_template_areas": null,
      "grid_template_columns": null,
      "grid_template_rows": null,
      "height": null,
      "justify_content": null,
      "justify_items": null,
      "left": null,
      "margin": null,
      "max_height": null,
      "max_width": null,
      "min_height": null,
      "min_width": null,
      "object_fit": null,
      "object_position": null,
      "order": null,
      "overflow": null,
      "overflow_x": null,
      "overflow_y": null,
      "padding": null,
      "right": null,
      "top": null,
      "visibility": null,
      "width": null
     }
    },
    "37c7eb9e966c473b90132b8d5b864597": {
     "model_module": "@jupyter-widgets/base",
     "model_module_version": "1.2.0",
     "model_name": "LayoutModel",
     "state": {
      "_model_module": "@jupyter-widgets/base",
      "_model_module_version": "1.2.0",
      "_model_name": "LayoutModel",
      "_view_count": null,
      "_view_module": "@jupyter-widgets/base",
      "_view_module_version": "1.2.0",
      "_view_name": "LayoutView",
      "align_content": null,
      "align_items": null,
      "align_self": null,
      "border": null,
      "bottom": null,
      "display": null,
      "flex": null,
      "flex_flow": null,
      "grid_area": null,
      "grid_auto_columns": null,
      "grid_auto_flow": null,
      "grid_auto_rows": null,
      "grid_column": null,
      "grid_gap": null,
      "grid_row": null,
      "grid_template_areas": null,
      "grid_template_columns": null,
      "grid_template_rows": null,
      "height": null,
      "justify_content": null,
      "justify_items": null,
      "left": null,
      "margin": null,
      "max_height": null,
      "max_width": null,
      "min_height": null,
      "min_width": null,
      "object_fit": null,
      "object_position": null,
      "order": null,
      "overflow": null,
      "overflow_x": null,
      "overflow_y": null,
      "padding": null,
      "right": null,
      "top": null,
      "visibility": null,
      "width": "30%"
     }
    },
    "3e65724aff1147f1bd3fe3e7bafca8f6": {
     "model_module": "@jupyter-widgets/controls",
     "model_module_version": "1.5.0",
     "model_name": "DescriptionStyleModel",
     "state": {
      "_model_module": "@jupyter-widgets/controls",
      "_model_module_version": "1.5.0",
      "_model_name": "DescriptionStyleModel",
      "_view_count": null,
      "_view_module": "@jupyter-widgets/base",
      "_view_module_version": "1.2.0",
      "_view_name": "StyleView",
      "description_width": ""
     }
    },
    "404c8f29aad145f89cddc0e8fbc241b0": {
     "model_module": "@jupyter-widgets/base",
     "model_module_version": "1.2.0",
     "model_name": "LayoutModel",
     "state": {
      "_model_module": "@jupyter-widgets/base",
      "_model_module_version": "1.2.0",
      "_model_name": "LayoutModel",
      "_view_count": null,
      "_view_module": "@jupyter-widgets/base",
      "_view_module_version": "1.2.0",
      "_view_name": "LayoutView",
      "align_content": null,
      "align_items": null,
      "align_self": null,
      "border": null,
      "bottom": null,
      "display": null,
      "flex": null,
      "flex_flow": null,
      "grid_area": null,
      "grid_auto_columns": null,
      "grid_auto_flow": null,
      "grid_auto_rows": null,
      "grid_column": null,
      "grid_gap": null,
      "grid_row": null,
      "grid_template_areas": null,
      "grid_template_columns": null,
      "grid_template_rows": null,
      "height": null,
      "justify_content": null,
      "justify_items": null,
      "left": null,
      "margin": null,
      "max_height": null,
      "max_width": null,
      "min_height": null,
      "min_width": null,
      "object_fit": null,
      "object_position": null,
      "order": null,
      "overflow": null,
      "overflow_x": null,
      "overflow_y": null,
      "padding": null,
      "right": null,
      "top": null,
      "visibility": null,
      "width": "17%"
     }
    },
    "41b3e82310314cc1b8b7d1d8122c9dff": {
     "model_module": "@jupyter-widgets/base",
     "model_module_version": "1.2.0",
     "model_name": "LayoutModel",
     "state": {
      "_model_module": "@jupyter-widgets/base",
      "_model_module_version": "1.2.0",
      "_model_name": "LayoutModel",
      "_view_count": null,
      "_view_module": "@jupyter-widgets/base",
      "_view_module_version": "1.2.0",
      "_view_name": "LayoutView",
      "align_content": null,
      "align_items": null,
      "align_self": null,
      "border": null,
      "bottom": null,
      "display": null,
      "flex": null,
      "flex_flow": null,
      "grid_area": null,
      "grid_auto_columns": null,
      "grid_auto_flow": null,
      "grid_auto_rows": null,
      "grid_column": null,
      "grid_gap": null,
      "grid_row": null,
      "grid_template_areas": null,
      "grid_template_columns": null,
      "grid_template_rows": null,
      "height": null,
      "justify_content": null,
      "justify_items": null,
      "left": null,
      "margin": null,
      "max_height": null,
      "max_width": null,
      "min_height": null,
      "min_width": null,
      "object_fit": null,
      "object_position": null,
      "order": null,
      "overflow": null,
      "overflow_x": null,
      "overflow_y": null,
      "padding": null,
      "right": null,
      "top": null,
      "visibility": null,
      "width": null
     }
    },
    "46c7e3f15c8144ee9abad13461d4edbb": {
     "model_module": "@jupyter-widgets/controls",
     "model_module_version": "1.5.0",
     "model_name": "DescriptionStyleModel",
     "state": {
      "_model_module": "@jupyter-widgets/controls",
      "_model_module_version": "1.5.0",
      "_model_name": "DescriptionStyleModel",
      "_view_count": null,
      "_view_module": "@jupyter-widgets/base",
      "_view_module_version": "1.2.0",
      "_view_name": "StyleView",
      "description_width": ""
     }
    },
    "497e22a63315470e8cd894a82b081b1a": {
     "model_module": "@jupyter-widgets/controls",
     "model_module_version": "1.5.0",
     "model_name": "SliderStyleModel",
     "state": {
      "_model_module": "@jupyter-widgets/controls",
      "_model_module_version": "1.5.0",
      "_model_name": "SliderStyleModel",
      "_view_count": null,
      "_view_module": "@jupyter-widgets/base",
      "_view_module_version": "1.2.0",
      "_view_name": "StyleView",
      "description_width": "",
      "handle_color": null
     }
    },
    "4a71208f255e44ae958831473f514585": {
     "model_module": "@jupyter-widgets/base",
     "model_module_version": "1.2.0",
     "model_name": "LayoutModel",
     "state": {
      "_model_module": "@jupyter-widgets/base",
      "_model_module_version": "1.2.0",
      "_model_name": "LayoutModel",
      "_view_count": null,
      "_view_module": "@jupyter-widgets/base",
      "_view_module_version": "1.2.0",
      "_view_name": "LayoutView",
      "align_content": null,
      "align_items": null,
      "align_self": null,
      "border": null,
      "bottom": null,
      "display": null,
      "flex": null,
      "flex_flow": null,
      "grid_area": null,
      "grid_auto_columns": null,
      "grid_auto_flow": null,
      "grid_auto_rows": null,
      "grid_column": null,
      "grid_gap": null,
      "grid_row": null,
      "grid_template_areas": null,
      "grid_template_columns": null,
      "grid_template_rows": null,
      "height": null,
      "justify_content": null,
      "justify_items": null,
      "left": null,
      "margin": null,
      "max_height": null,
      "max_width": null,
      "min_height": null,
      "min_width": null,
      "object_fit": null,
      "object_position": null,
      "order": null,
      "overflow": null,
      "overflow_x": null,
      "overflow_y": null,
      "padding": null,
      "right": null,
      "top": null,
      "visibility": null,
      "width": null
     }
    },
    "4ad125b547e044aea3f14c088cd02bae": {
     "model_module": "@jupyter-widgets/controls",
     "model_module_version": "1.5.0",
     "model_name": "DescriptionStyleModel",
     "state": {
      "_model_module": "@jupyter-widgets/controls",
      "_model_module_version": "1.5.0",
      "_model_name": "DescriptionStyleModel",
      "_view_count": null,
      "_view_module": "@jupyter-widgets/base",
      "_view_module_version": "1.2.0",
      "_view_name": "StyleView",
      "description_width": ""
     }
    },
    "4c19cbc612c0488bb38a2553adc348d5": {
     "model_module": "@jupyter-widgets/controls",
     "model_module_version": "1.5.0",
     "model_name": "HBoxModel",
     "state": {
      "_dom_classes": [],
      "_model_module": "@jupyter-widgets/controls",
      "_model_module_version": "1.5.0",
      "_model_name": "HBoxModel",
      "_view_count": null,
      "_view_module": "@jupyter-widgets/controls",
      "_view_module_version": "1.5.0",
      "_view_name": "HBoxView",
      "box_style": "",
      "children": [
       "IPY_MODEL_12c2126172ae40ef948547b3dfd763b1",
       "IPY_MODEL_03cfe615c9fe4f618f541782cbc243ff",
       "IPY_MODEL_742280947e5e4d538804e16d4182dc76"
      ],
      "layout": "IPY_MODEL_81744888b9b84073993f4547b1a4c73a"
     }
    },
    "4eb830e9f9e7433eb46e9cec1ffeee1b": {
     "model_module": "@jupyter-widgets/controls",
     "model_module_version": "1.5.0",
     "model_name": "FloatTextModel",
     "state": {
      "_dom_classes": [],
      "_model_module": "@jupyter-widgets/controls",
      "_model_module_version": "1.5.0",
      "_model_name": "FloatTextModel",
      "_view_count": null,
      "_view_module": "@jupyter-widgets/controls",
      "_view_module_version": "1.5.0",
      "_view_name": "FloatTextView",
      "continuous_update": false,
      "description": "λ:",
      "description_tooltip": null,
      "disabled": false,
      "layout": "IPY_MODEL_5ae6780260434fe7a1cf3408790e5241",
      "step": 0.01,
      "style": "IPY_MODEL_0dd1f17d8fde4a1c80a30ffadd3f1c67",
      "value": 0.05
     }
    },
    "55da9a8b06ec4205808794704dff1838": {
     "model_module": "@jupyter-widgets/controls",
     "model_module_version": "1.5.0",
     "model_name": "DescriptionStyleModel",
     "state": {
      "_model_module": "@jupyter-widgets/controls",
      "_model_module_version": "1.5.0",
      "_model_name": "DescriptionStyleModel",
      "_view_count": null,
      "_view_module": "@jupyter-widgets/base",
      "_view_module_version": "1.2.0",
      "_view_name": "StyleView",
      "description_width": ""
     }
    },
    "5ae6780260434fe7a1cf3408790e5241": {
     "model_module": "@jupyter-widgets/base",
     "model_module_version": "1.2.0",
     "model_name": "LayoutModel",
     "state": {
      "_model_module": "@jupyter-widgets/base",
      "_model_module_version": "1.2.0",
      "_model_name": "LayoutModel",
      "_view_count": null,
      "_view_module": "@jupyter-widgets/base",
      "_view_module_version": "1.2.0",
      "_view_name": "LayoutView",
      "align_content": null,
      "align_items": null,
      "align_self": null,
      "border": null,
      "bottom": null,
      "display": "none",
      "flex": null,
      "flex_flow": null,
      "grid_area": null,
      "grid_auto_columns": null,
      "grid_auto_flow": null,
      "grid_auto_rows": null,
      "grid_column": null,
      "grid_gap": null,
      "grid_row": null,
      "grid_template_areas": null,
      "grid_template_columns": null,
      "grid_template_rows": null,
      "height": null,
      "justify_content": null,
      "justify_items": null,
      "left": null,
      "margin": null,
      "max_height": null,
      "max_width": null,
      "min_height": null,
      "min_width": null,
      "object_fit": null,
      "object_position": null,
      "order": null,
      "overflow": null,
      "overflow_x": null,
      "overflow_y": null,
      "padding": null,
      "right": null,
      "top": null,
      "visibility": null,
      "width": "70%"
     }
    },
    "5b50c46b7d3a4eea8a7fdf495659274e": {
     "model_module": "@jupyter-widgets/controls",
     "model_module_version": "1.5.0",
     "model_name": "DescriptionStyleModel",
     "state": {
      "_model_module": "@jupyter-widgets/controls",
      "_model_module_version": "1.5.0",
      "_model_name": "DescriptionStyleModel",
      "_view_count": null,
      "_view_module": "@jupyter-widgets/base",
      "_view_module_version": "1.2.0",
      "_view_name": "StyleView",
      "description_width": ""
     }
    },
    "5b9d0c0432994973a41f8267a97aca8b": {
     "model_module": "@jupyter-widgets/controls",
     "model_module_version": "1.5.0",
     "model_name": "HTMLModel",
     "state": {
      "_dom_classes": [],
      "_model_module": "@jupyter-widgets/controls",
      "_model_module_version": "1.5.0",
      "_model_name": "HTMLModel",
      "_view_count": null,
      "_view_module": "@jupyter-widgets/controls",
      "_view_module_version": "1.5.0",
      "_view_name": "HTMLView",
      "description": "",
      "description_tooltip": null,
      "layout": "IPY_MODEL_623edc5cb1ec4336b02a4ccd0e502e5b",
      "placeholder": "​",
      "style": "IPY_MODEL_55da9a8b06ec4205808794704dff1838",
      "value": "<b>Plot controls:</b>"
     }
    },
    "61c28a35931c41c5914c597b5a9d62f6": {
     "model_module": "@jupyter-widgets/controls",
     "model_module_version": "1.5.0",
     "model_name": "FloatTextModel",
     "state": {
      "_dom_classes": [],
      "_model_module": "@jupyter-widgets/controls",
      "_model_module_version": "1.5.0",
      "_model_name": "FloatTextModel",
      "_view_count": null,
      "_view_module": "@jupyter-widgets/controls",
      "_view_module_version": "1.5.0",
      "_view_name": "FloatTextView",
      "continuous_update": false,
      "description": "σ:",
      "description_tooltip": null,
      "disabled": false,
      "layout": "IPY_MODEL_8d12d7678f8b4a99806a346f213e7b85",
      "step": 0.01,
      "style": "IPY_MODEL_c26666af2dd34216bbda3991401cb28e",
      "value": 0.05
     }
    },
    "623edc5cb1ec4336b02a4ccd0e502e5b": {
     "model_module": "@jupyter-widgets/base",
     "model_module_version": "1.2.0",
     "model_name": "LayoutModel",
     "state": {
      "_model_module": "@jupyter-widgets/base",
      "_model_module_version": "1.2.0",
      "_model_name": "LayoutModel",
      "_view_count": null,
      "_view_module": "@jupyter-widgets/base",
      "_view_module_version": "1.2.0",
      "_view_name": "LayoutView",
      "align_content": null,
      "align_items": null,
      "align_self": null,
      "border": null,
      "bottom": null,
      "display": null,
      "flex": null,
      "flex_flow": null,
      "grid_area": null,
      "grid_auto_columns": null,
      "grid_auto_flow": null,
      "grid_auto_rows": null,
      "grid_column": null,
      "grid_gap": null,
      "grid_row": null,
      "grid_template_areas": null,
      "grid_template_columns": null,
      "grid_template_rows": null,
      "height": null,
      "justify_content": null,
      "justify_items": null,
      "left": null,
      "margin": null,
      "max_height": null,
      "max_width": null,
      "min_height": null,
      "min_width": null,
      "object_fit": null,
      "object_position": null,
      "order": null,
      "overflow": null,
      "overflow_x": null,
      "overflow_y": null,
      "padding": null,
      "right": null,
      "top": null,
      "visibility": null,
      "width": null
     }
    },
    "63380b1cf8cf4a648f80bd91ebf52b7a": {
     "model_module": "@jupyter-widgets/controls",
     "model_module_version": "1.5.0",
     "model_name": "FloatTextModel",
     "state": {
      "_dom_classes": [],
      "_model_module": "@jupyter-widgets/controls",
      "_model_module_version": "1.5.0",
      "_model_name": "FloatTextModel",
      "_view_count": null,
      "_view_module": "@jupyter-widgets/controls",
      "_view_module_version": "1.5.0",
      "_view_name": "FloatTextView",
      "continuous_update": false,
      "description": "x1:",
      "description_tooltip": null,
      "disabled": false,
      "layout": "IPY_MODEL_0c17d50bd63f40af98f2fe7437704117",
      "step": 0.1,
      "style": "IPY_MODEL_46c7e3f15c8144ee9abad13461d4edbb",
      "value": 1.2
     }
    },
    "634fbed189ae4b0ba539ace26e36dfca": {
     "model_module": "@jupyter-widgets/base",
     "model_module_version": "1.2.0",
     "model_name": "LayoutModel",
     "state": {
      "_model_module": "@jupyter-widgets/base",
      "_model_module_version": "1.2.0",
      "_model_name": "LayoutModel",
      "_view_count": null,
      "_view_module": "@jupyter-widgets/base",
      "_view_module_version": "1.2.0",
      "_view_name": "LayoutView",
      "align_content": null,
      "align_items": null,
      "align_self": null,
      "border": null,
      "bottom": null,
      "display": "none",
      "flex": null,
      "flex_flow": null,
      "grid_area": null,
      "grid_auto_columns": null,
      "grid_auto_flow": null,
      "grid_auto_rows": null,
      "grid_column": null,
      "grid_gap": null,
      "grid_row": null,
      "grid_template_areas": null,
      "grid_template_columns": null,
      "grid_template_rows": null,
      "height": null,
      "justify_content": null,
      "justify_items": null,
      "left": null,
      "margin": null,
      "max_height": null,
      "max_width": null,
      "min_height": null,
      "min_width": null,
      "object_fit": null,
      "object_position": null,
      "order": null,
      "overflow": null,
      "overflow_x": null,
      "overflow_y": null,
      "padding": null,
      "right": null,
      "top": null,
      "visibility": null,
      "width": "70%"
     }
    },
    "670aa4a24dfb438e9a4bcc33b7ed64e3": {
     "model_module": "@jupyter-widgets/base",
     "model_module_version": "1.2.0",
     "model_name": "LayoutModel",
     "state": {
      "_model_module": "@jupyter-widgets/base",
      "_model_module_version": "1.2.0",
      "_model_name": "LayoutModel",
      "_view_count": null,
      "_view_module": "@jupyter-widgets/base",
      "_view_module_version": "1.2.0",
      "_view_name": "LayoutView",
      "align_content": null,
      "align_items": null,
      "align_self": null,
      "border": null,
      "bottom": null,
      "display": null,
      "flex": null,
      "flex_flow": null,
      "grid_area": null,
      "grid_auto_columns": null,
      "grid_auto_flow": null,
      "grid_auto_rows": null,
      "grid_column": null,
      "grid_gap": null,
      "grid_row": null,
      "grid_template_areas": null,
      "grid_template_columns": null,
      "grid_template_rows": null,
      "height": null,
      "justify_content": null,
      "justify_items": null,
      "left": null,
      "margin": null,
      "max_height": null,
      "max_width": null,
      "min_height": null,
      "min_width": null,
      "object_fit": null,
      "object_position": null,
      "order": null,
      "overflow": null,
      "overflow_x": null,
      "overflow_y": null,
      "padding": null,
      "right": null,
      "top": null,
      "visibility": null,
      "width": null
     }
    },
    "68cf0e5b37fa41f0ac6062da308850bb": {
     "model_module": "@jupyter-widgets/base",
     "model_module_version": "1.2.0",
     "model_name": "LayoutModel",
     "state": {
      "_model_module": "@jupyter-widgets/base",
      "_model_module_version": "1.2.0",
      "_model_name": "LayoutModel",
      "_view_count": null,
      "_view_module": "@jupyter-widgets/base",
      "_view_module_version": "1.2.0",
      "_view_name": "LayoutView",
      "align_content": null,
      "align_items": null,
      "align_self": null,
      "border": null,
      "bottom": null,
      "display": null,
      "flex": null,
      "flex_flow": null,
      "grid_area": null,
      "grid_auto_columns": null,
      "grid_auto_flow": null,
      "grid_auto_rows": null,
      "grid_column": null,
      "grid_gap": null,
      "grid_row": null,
      "grid_template_areas": null,
      "grid_template_columns": null,
      "grid_template_rows": null,
      "height": null,
      "justify_content": null,
      "justify_items": null,
      "left": null,
      "margin": null,
      "max_height": null,
      "max_width": null,
      "min_height": null,
      "min_width": null,
      "object_fit": null,
      "object_position": null,
      "order": null,
      "overflow": null,
      "overflow_x": null,
      "overflow_y": null,
      "padding": null,
      "right": null,
      "top": null,
      "visibility": null,
      "width": null
     }
    },
    "742280947e5e4d538804e16d4182dc76": {
     "model_module": "@jupyter-widgets/controls",
     "model_module_version": "1.5.0",
     "model_name": "IntTextModel",
     "state": {
      "_dom_classes": [],
      "_model_module": "@jupyter-widgets/controls",
      "_model_module_version": "1.5.0",
      "_model_name": "IntTextModel",
      "_view_count": null,
      "_view_module": "@jupyter-widgets/controls",
      "_view_module_version": "1.5.0",
      "_view_name": "IntTextView",
      "continuous_update": false,
      "description": "n_points:",
      "description_tooltip": null,
      "disabled": false,
      "layout": "IPY_MODEL_af634f28e8a04c769a348625bd77ec58",
      "step": 50,
      "style": "IPY_MODEL_4ad125b547e044aea3f14c088cd02bae",
      "value": 200
     }
    },
    "811b06b676504d2ebd29671c6da0a9f8": {
     "model_module": "@jupyter-widgets/controls",
     "model_module_version": "1.5.0",
     "model_name": "VBoxModel",
     "state": {
      "_dom_classes": [
       "widget-interact"
      ],
      "_model_module": "@jupyter-widgets/controls",
      "_model_module_version": "1.5.0",
      "_model_name": "VBoxModel",
      "_view_count": null,
      "_view_module": "@jupyter-widgets/controls",
      "_view_module_version": "1.5.0",
      "_view_name": "VBoxView",
      "box_style": "",
      "children": [
       "IPY_MODEL_17b6047d99d34076b59ee6cf696900ad",
       "IPY_MODEL_945f3aa63fc947018f479b3cae14593e"
      ],
      "layout": "IPY_MODEL_ebd7b9ea7b6e4dfbacc1fe1c5b9697ae"
     }
    },
    "81744888b9b84073993f4547b1a4c73a": {
     "model_module": "@jupyter-widgets/base",
     "model_module_version": "1.2.0",
     "model_name": "LayoutModel",
     "state": {
      "_model_module": "@jupyter-widgets/base",
      "_model_module_version": "1.2.0",
      "_model_name": "LayoutModel",
      "_view_count": null,
      "_view_module": "@jupyter-widgets/base",
      "_view_module_version": "1.2.0",
      "_view_name": "LayoutView",
      "align_content": null,
      "align_items": null,
      "align_self": null,
      "border": null,
      "bottom": null,
      "display": null,
      "flex": null,
      "flex_flow": null,
      "grid_area": null,
      "grid_auto_columns": null,
      "grid_auto_flow": null,
      "grid_auto_rows": null,
      "grid_column": null,
      "grid_gap": null,
      "grid_row": null,
      "grid_template_areas": null,
      "grid_template_columns": null,
      "grid_template_rows": null,
      "height": null,
      "justify_content": null,
      "justify_items": null,
      "left": null,
      "margin": null,
      "max_height": null,
      "max_width": null,
      "min_height": null,
      "min_width": null,
      "object_fit": null,
      "object_position": null,
      "order": null,
      "overflow": null,
      "overflow_x": null,
      "overflow_y": null,
      "padding": null,
      "right": null,
      "top": null,
      "visibility": null,
      "width": "95%"
     }
    },
    "85f9e286b65a4fac8c81511ba7ea4886": {
     "model_module": "@jupyter-widgets/base",
     "model_module_version": "1.2.0",
     "model_name": "LayoutModel",
     "state": {
      "_model_module": "@jupyter-widgets/base",
      "_model_module_version": "1.2.0",
      "_model_name": "LayoutModel",
      "_view_count": null,
      "_view_module": "@jupyter-widgets/base",
      "_view_module_version": "1.2.0",
      "_view_name": "LayoutView",
      "align_content": null,
      "align_items": null,
      "align_self": null,
      "border": null,
      "bottom": null,
      "display": null,
      "flex": null,
      "flex_flow": null,
      "grid_area": null,
      "grid_auto_columns": null,
      "grid_auto_flow": null,
      "grid_auto_rows": null,
      "grid_column": null,
      "grid_gap": null,
      "grid_row": null,
      "grid_template_areas": null,
      "grid_template_columns": null,
      "grid_template_rows": null,
      "height": null,
      "justify_content": null,
      "justify_items": null,
      "left": null,
      "margin": null,
      "max_height": null,
      "max_width": null,
      "min_height": null,
      "min_width": null,
      "object_fit": null,
      "object_position": null,
      "order": null,
      "overflow": null,
      "overflow_x": null,
      "overflow_y": null,
      "padding": null,
      "right": null,
      "top": null,
      "visibility": null,
      "width": null
     }
    },
    "8887c6436ed3421fa7e95edf985f73d2": {
     "model_module": "@jupyter-widgets/controls",
     "model_module_version": "1.5.0",
     "model_name": "DescriptionStyleModel",
     "state": {
      "_model_module": "@jupyter-widgets/controls",
      "_model_module_version": "1.5.0",
      "_model_name": "DescriptionStyleModel",
      "_view_count": null,
      "_view_module": "@jupyter-widgets/base",
      "_view_module_version": "1.2.0",
      "_view_name": "StyleView",
      "description_width": ""
     }
    },
    "8b615f133dbc492b95780e2096cfe179": {
     "model_module": "@jupyter-widgets/base",
     "model_module_version": "1.2.0",
     "model_name": "LayoutModel",
     "state": {
      "_model_module": "@jupyter-widgets/base",
      "_model_module_version": "1.2.0",
      "_model_name": "LayoutModel",
      "_view_count": null,
      "_view_module": "@jupyter-widgets/base",
      "_view_module_version": "1.2.0",
      "_view_name": "LayoutView",
      "align_content": null,
      "align_items": null,
      "align_self": null,
      "border": null,
      "bottom": null,
      "display": null,
      "flex": null,
      "flex_flow": null,
      "grid_area": null,
      "grid_auto_columns": null,
      "grid_auto_flow": null,
      "grid_auto_rows": null,
      "grid_column": null,
      "grid_gap": null,
      "grid_row": null,
      "grid_template_areas": null,
      "grid_template_columns": null,
      "grid_template_rows": null,
      "height": null,
      "justify_content": null,
      "justify_items": null,
      "left": null,
      "margin": null,
      "max_height": null,
      "max_width": null,
      "min_height": null,
      "min_width": null,
      "object_fit": null,
      "object_position": null,
      "order": null,
      "overflow": null,
      "overflow_x": null,
      "overflow_y": null,
      "padding": null,
      "right": null,
      "top": null,
      "visibility": null,
      "width": "17%"
     }
    },
    "8d12d7678f8b4a99806a346f213e7b85": {
     "model_module": "@jupyter-widgets/base",
     "model_module_version": "1.2.0",
     "model_name": "LayoutModel",
     "state": {
      "_model_module": "@jupyter-widgets/base",
      "_model_module_version": "1.2.0",
      "_model_name": "LayoutModel",
      "_view_count": null,
      "_view_module": "@jupyter-widgets/base",
      "_view_module_version": "1.2.0",
      "_view_name": "LayoutView",
      "align_content": null,
      "align_items": null,
      "align_self": null,
      "border": null,
      "bottom": null,
      "display": "",
      "flex": null,
      "flex_flow": null,
      "grid_area": null,
      "grid_auto_columns": null,
      "grid_auto_flow": null,
      "grid_auto_rows": null,
      "grid_column": null,
      "grid_gap": null,
      "grid_row": null,
      "grid_template_areas": null,
      "grid_template_columns": null,
      "grid_template_rows": null,
      "height": null,
      "justify_content": null,
      "justify_items": null,
      "left": null,
      "margin": null,
      "max_height": null,
      "max_width": null,
      "min_height": null,
      "min_width": null,
      "object_fit": null,
      "object_position": null,
      "order": null,
      "overflow": null,
      "overflow_x": null,
      "overflow_y": null,
      "padding": null,
      "right": null,
      "top": null,
      "visibility": null,
      "width": "70%"
     }
    },
    "945f3aa63fc947018f479b3cae14593e": {
     "model_module": "@jupyter-widgets/output",
     "model_module_version": "1.0.0",
     "model_name": "OutputModel",
     "state": {
      "_dom_classes": [],
      "_model_module": "@jupyter-widgets/output",
      "_model_module_version": "1.0.0",
      "_model_name": "OutputModel",
      "_view_count": null,
      "_view_module": "@jupyter-widgets/output",
      "_view_module_version": "1.0.0",
      "_view_name": "OutputView",
      "layout": "IPY_MODEL_68cf0e5b37fa41f0ac6062da308850bb",
      "msg_id": "",
      "outputs": [
       {
        "data": {
         "text/html": "<html>\n<head><meta charset=\"utf-8\" /></head>\n<body>\n    <div>            <script src=\"https://cdnjs.cloudflare.com/ajax/libs/mathjax/2.7.5/MathJax.js?config=TeX-AMS-MML_SVG\"></script><script type=\"text/javascript\">if (window.MathJax && window.MathJax.Hub && window.MathJax.Hub.Config) {window.MathJax.Hub.Config({SVG: {font: \"STIX-Web\"}});}</script>                <script type=\"text/javascript\">window.PlotlyConfig = {MathJaxConfig: 'local'};</script>\n        <script charset=\"utf-8\" src=\"https://cdn.plot.ly/plotly-2.35.2.min.js\"></script>                <div id=\"d231a4c4-f121-4d6e-8db1-72443dd865d1\" class=\"plotly-graph-div\" style=\"height:300px; width:500px;\"></div>            <script type=\"text/javascript\">                                    window.PLOTLYENV=window.PLOTLYENV || {};                                    if (document.getElementById(\"d231a4c4-f121-4d6e-8db1-72443dd865d1\")) {                    Plotly.newPlot(                        \"d231a4c4-f121-4d6e-8db1-72443dd865d1\",                        [{\"marker\":{\"color\":\"#d2226a\"},\"mode\":\"lines\",\"name\":\"GHI\",\"x\":[4,5,6,7,8,9,10,11,12,13,14,15,16,17,18,19,20],\"y\":[0.0,0.0,39.599998474121094,150.0,197.85000610351562,302.1499938964844,372.8999938964844,346.0,417.5,175.64999389648438,172.89999389648438,140.9499969482422,230.64999389648438,93.75,13.649999618530273,0.0,0.0],\"type\":\"scatter\"},{\"marker\":{\"color\":\"#27cfff\"},\"mode\":\"lines\",\"name\":\"DHI\",\"x\":[4,5,6,7,8,9,10,11,12,13,14,15,16,17,18,19,20],\"y\":[0.0,0.0,39.599998474121094,88.6500015258789,157.5500030517578,234.1999969482422,298.04998779296875,301.04998779296875,298.1000061035156,158.75,163.1999969482422,140.9499969482422,149.85000610351562,73.94999694824219,12.199999809265137,0.0,0.0],\"type\":\"scatter\"},{\"marker\":{\"color\":\"#febf24\"},\"mode\":\"lines\",\"name\":\"DNI\",\"x\":[4,5,6,7,8,9,10,11,12,13,14,15,16,17,18,19,20],\"y\":[0.0,0.0,0.0,227.52000427246094,85.66999816894531,105.33999633789062,96.05999755859375,51.75,131.99000549316406,19.100000381469727,11.970000267028809,0.0,154.9499969482422,60.599998474121094,12.550000190734863,0.0,0.0],\"type\":\"scatter\"}],                        {\"template\":{\"data\":{\"histogram2dcontour\":[{\"type\":\"histogram2dcontour\",\"colorbar\":{\"outlinewidth\":0,\"ticks\":\"\"},\"colorscale\":[[0.0,\"#0d0887\"],[0.1111111111111111,\"#46039f\"],[0.2222222222222222,\"#7201a8\"],[0.3333333333333333,\"#9c179e\"],[0.4444444444444444,\"#bd3786\"],[0.5555555555555556,\"#d8576b\"],[0.6666666666666666,\"#ed7953\"],[0.7777777777777778,\"#fb9f3a\"],[0.8888888888888888,\"#fdca26\"],[1.0,\"#f0f921\"]]}],\"choropleth\":[{\"type\":\"choropleth\",\"colorbar\":{\"outlinewidth\":0,\"ticks\":\"\"}}],\"histogram2d\":[{\"type\":\"histogram2d\",\"colorbar\":{\"outlinewidth\":0,\"ticks\":\"\"},\"colorscale\":[[0.0,\"#0d0887\"],[0.1111111111111111,\"#46039f\"],[0.2222222222222222,\"#7201a8\"],[0.3333333333333333,\"#9c179e\"],[0.4444444444444444,\"#bd3786\"],[0.5555555555555556,\"#d8576b\"],[0.6666666666666666,\"#ed7953\"],[0.7777777777777778,\"#fb9f3a\"],[0.8888888888888888,\"#fdca26\"],[1.0,\"#f0f921\"]]}],\"heatmap\":[{\"type\":\"heatmap\",\"colorbar\":{\"outlinewidth\":0,\"ticks\":\"\"},\"colorscale\":[[0.0,\"#0d0887\"],[0.1111111111111111,\"#46039f\"],[0.2222222222222222,\"#7201a8\"],[0.3333333333333333,\"#9c179e\"],[0.4444444444444444,\"#bd3786\"],[0.5555555555555556,\"#d8576b\"],[0.6666666666666666,\"#ed7953\"],[0.7777777777777778,\"#fb9f3a\"],[0.8888888888888888,\"#fdca26\"],[1.0,\"#f0f921\"]]}],\"heatmapgl\":[{\"type\":\"heatmapgl\",\"colorbar\":{\"outlinewidth\":0,\"ticks\":\"\"},\"colorscale\":[[0.0,\"#0d0887\"],[0.1111111111111111,\"#46039f\"],[0.2222222222222222,\"#7201a8\"],[0.3333333333333333,\"#9c179e\"],[0.4444444444444444,\"#bd3786\"],[0.5555555555555556,\"#d8576b\"],[0.6666666666666666,\"#ed7953\"],[0.7777777777777778,\"#fb9f3a\"],[0.8888888888888888,\"#fdca26\"],[1.0,\"#f0f921\"]]}],\"contourcarpet\":[{\"type\":\"contourcarpet\",\"colorbar\":{\"outlinewidth\":0,\"ticks\":\"\"}}],\"contour\":[{\"type\":\"contour\",\"colorbar\":{\"outlinewidth\":0,\"ticks\":\"\"},\"colorscale\":[[0.0,\"#0d0887\"],[0.1111111111111111,\"#46039f\"],[0.2222222222222222,\"#7201a8\"],[0.3333333333333333,\"#9c179e\"],[0.4444444444444444,\"#bd3786\"],[0.5555555555555556,\"#d8576b\"],[0.6666666666666666,\"#ed7953\"],[0.7777777777777778,\"#fb9f3a\"],[0.8888888888888888,\"#fdca26\"],[1.0,\"#f0f921\"]]}],\"surface\":[{\"type\":\"surface\",\"colorbar\":{\"outlinewidth\":0,\"ticks\":\"\"},\"colorscale\":[[0.0,\"#0d0887\"],[0.1111111111111111,\"#46039f\"],[0.2222222222222222,\"#7201a8\"],[0.3333333333333333,\"#9c179e\"],[0.4444444444444444,\"#bd3786\"],[0.5555555555555556,\"#d8576b\"],[0.6666666666666666,\"#ed7953\"],[0.7777777777777778,\"#fb9f3a\"],[0.8888888888888888,\"#fdca26\"],[1.0,\"#f0f921\"]]}],\"mesh3d\":[{\"type\":\"mesh3d\",\"colorbar\":{\"outlinewidth\":0,\"ticks\":\"\"}}],\"scatter\":[{\"fillpattern\":{\"fillmode\":\"overlay\",\"size\":10,\"solidity\":0.2},\"type\":\"scatter\"}],\"parcoords\":[{\"type\":\"parcoords\",\"line\":{\"colorbar\":{\"outlinewidth\":0,\"ticks\":\"\"}}}],\"scatterpolargl\":[{\"type\":\"scatterpolargl\",\"marker\":{\"colorbar\":{\"outlinewidth\":0,\"ticks\":\"\"}}}],\"bar\":[{\"error_x\":{\"color\":\"#2a3f5f\"},\"error_y\":{\"color\":\"#2a3f5f\"},\"marker\":{\"line\":{\"color\":\"#E5ECF6\",\"width\":0.5},\"pattern\":{\"fillmode\":\"overlay\",\"size\":10,\"solidity\":0.2}},\"type\":\"bar\"}],\"scattergeo\":[{\"type\":\"scattergeo\",\"marker\":{\"colorbar\":{\"outlinewidth\":0,\"ticks\":\"\"}}}],\"scatterpolar\":[{\"type\":\"scatterpolar\",\"marker\":{\"colorbar\":{\"outlinewidth\":0,\"ticks\":\"\"}}}],\"histogram\":[{\"marker\":{\"pattern\":{\"fillmode\":\"overlay\",\"size\":10,\"solidity\":0.2}},\"type\":\"histogram\"}],\"scattergl\":[{\"type\":\"scattergl\",\"marker\":{\"colorbar\":{\"outlinewidth\":0,\"ticks\":\"\"}}}],\"scatter3d\":[{\"type\":\"scatter3d\",\"line\":{\"colorbar\":{\"outlinewidth\":0,\"ticks\":\"\"}},\"marker\":{\"colorbar\":{\"outlinewidth\":0,\"ticks\":\"\"}}}],\"scattermapbox\":[{\"type\":\"scattermapbox\",\"marker\":{\"colorbar\":{\"outlinewidth\":0,\"ticks\":\"\"}}}],\"scatterternary\":[{\"type\":\"scatterternary\",\"marker\":{\"colorbar\":{\"outlinewidth\":0,\"ticks\":\"\"}}}],\"scattercarpet\":[{\"type\":\"scattercarpet\",\"marker\":{\"colorbar\":{\"outlinewidth\":0,\"ticks\":\"\"}}}],\"carpet\":[{\"aaxis\":{\"endlinecolor\":\"#2a3f5f\",\"gridcolor\":\"white\",\"linecolor\":\"white\",\"minorgridcolor\":\"white\",\"startlinecolor\":\"#2a3f5f\"},\"baxis\":{\"endlinecolor\":\"#2a3f5f\",\"gridcolor\":\"white\",\"linecolor\":\"white\",\"minorgridcolor\":\"white\",\"startlinecolor\":\"#2a3f5f\"},\"type\":\"carpet\"}],\"table\":[{\"cells\":{\"fill\":{\"color\":\"#EBF0F8\"},\"line\":{\"color\":\"white\"}},\"header\":{\"fill\":{\"color\":\"#C8D4E3\"},\"line\":{\"color\":\"white\"}},\"type\":\"table\"}],\"barpolar\":[{\"marker\":{\"line\":{\"color\":\"#E5ECF6\",\"width\":0.5},\"pattern\":{\"fillmode\":\"overlay\",\"size\":10,\"solidity\":0.2}},\"type\":\"barpolar\"}],\"pie\":[{\"automargin\":true,\"type\":\"pie\"}]},\"layout\":{\"autotypenumbers\":\"strict\",\"colorway\":[\"#636efa\",\"#EF553B\",\"#00cc96\",\"#ab63fa\",\"#FFA15A\",\"#19d3f3\",\"#FF6692\",\"#B6E880\",\"#FF97FF\",\"#FECB52\"],\"font\":{\"color\":\"#2a3f5f\"},\"hovermode\":\"closest\",\"hoverlabel\":{\"align\":\"left\"},\"paper_bgcolor\":\"white\",\"plot_bgcolor\":\"#E5ECF6\",\"polar\":{\"bgcolor\":\"#E5ECF6\",\"angularaxis\":{\"gridcolor\":\"white\",\"linecolor\":\"white\",\"ticks\":\"\"},\"radialaxis\":{\"gridcolor\":\"white\",\"linecolor\":\"white\",\"ticks\":\"\"}},\"ternary\":{\"bgcolor\":\"#E5ECF6\",\"aaxis\":{\"gridcolor\":\"white\",\"linecolor\":\"white\",\"ticks\":\"\"},\"baxis\":{\"gridcolor\":\"white\",\"linecolor\":\"white\",\"ticks\":\"\"},\"caxis\":{\"gridcolor\":\"white\",\"linecolor\":\"white\",\"ticks\":\"\"}},\"coloraxis\":{\"colorbar\":{\"outlinewidth\":0,\"ticks\":\"\"}},\"colorscale\":{\"sequential\":[[0.0,\"#0d0887\"],[0.1111111111111111,\"#46039f\"],[0.2222222222222222,\"#7201a8\"],[0.3333333333333333,\"#9c179e\"],[0.4444444444444444,\"#bd3786\"],[0.5555555555555556,\"#d8576b\"],[0.6666666666666666,\"#ed7953\"],[0.7777777777777778,\"#fb9f3a\"],[0.8888888888888888,\"#fdca26\"],[1.0,\"#f0f921\"]],\"sequentialminus\":[[0.0,\"#0d0887\"],[0.1111111111111111,\"#46039f\"],[0.2222222222222222,\"#7201a8\"],[0.3333333333333333,\"#9c179e\"],[0.4444444444444444,\"#bd3786\"],[0.5555555555555556,\"#d8576b\"],[0.6666666666666666,\"#ed7953\"],[0.7777777777777778,\"#fb9f3a\"],[0.8888888888888888,\"#fdca26\"],[1.0,\"#f0f921\"]],\"diverging\":[[0,\"#8e0152\"],[0.1,\"#c51b7d\"],[0.2,\"#de77ae\"],[0.3,\"#f1b6da\"],[0.4,\"#fde0ef\"],[0.5,\"#f7f7f7\"],[0.6,\"#e6f5d0\"],[0.7,\"#b8e186\"],[0.8,\"#7fbc41\"],[0.9,\"#4d9221\"],[1,\"#276419\"]]},\"xaxis\":{\"gridcolor\":\"white\",\"linecolor\":\"white\",\"ticks\":\"\",\"title\":{\"standoff\":15},\"zerolinecolor\":\"white\",\"automargin\":true,\"zerolinewidth\":2},\"yaxis\":{\"gridcolor\":\"white\",\"linecolor\":\"white\",\"ticks\":\"\",\"title\":{\"standoff\":15},\"zerolinecolor\":\"white\",\"automargin\":true,\"zerolinewidth\":2},\"scene\":{\"xaxis\":{\"backgroundcolor\":\"#E5ECF6\",\"gridcolor\":\"white\",\"linecolor\":\"white\",\"showbackground\":true,\"ticks\":\"\",\"zerolinecolor\":\"white\",\"gridwidth\":2},\"yaxis\":{\"backgroundcolor\":\"#E5ECF6\",\"gridcolor\":\"white\",\"linecolor\":\"white\",\"showbackground\":true,\"ticks\":\"\",\"zerolinecolor\":\"white\",\"gridwidth\":2},\"zaxis\":{\"backgroundcolor\":\"#E5ECF6\",\"gridcolor\":\"white\",\"linecolor\":\"white\",\"showbackground\":true,\"ticks\":\"\",\"zerolinecolor\":\"white\",\"gridwidth\":2}},\"shapedefaults\":{\"line\":{\"color\":\"#2a3f5f\"}},\"annotationdefaults\":{\"arrowcolor\":\"#2a3f5f\",\"arrowhead\":0,\"arrowwidth\":1},\"geo\":{\"bgcolor\":\"white\",\"landcolor\":\"#E5ECF6\",\"subunitcolor\":\"white\",\"showland\":true,\"showlakes\":true,\"lakecolor\":\"white\"},\"title\":{\"x\":0.05},\"mapbox\":{\"style\":\"light\"}}},\"xaxis\":{\"title\":{\"text\":\"Hour of Day\"},\"range\":[4,20],\"linewidth\":1,\"linecolor\":\"black\",\"mirror\":true,\"ticks\":\"outside\",\"dtick\":2},\"yaxis\":{\"title\":{\"text\":\"Irradiance (W\\u002fm²)\"},\"range\":[0,1130],\"linewidth\":1,\"linecolor\":\"black\",\"mirror\":true,\"ticks\":\"outside\",\"showgrid\":true,\"gridwidth\":0.1,\"gridcolor\":\"LightGrey\"},\"title\":{\"text\":\"Irradiance on 1990-02-26\",\"x\":0.5,\"font\":{\"size\":18}},\"margin\":{\"l\":20,\"r\":20,\"t\":35,\"b\":20},\"height\":300,\"width\":500,\"font\":{\"size\":16},\"paper_bgcolor\":\"rgba(0,0,0,0)\",\"plot_bgcolor\":\"rgba(0,0,0,0)\"},                        {\"responsive\": true}                    ).then(function(){\n                            \nvar gd = document.getElementById('d231a4c4-f121-4d6e-8db1-72443dd865d1');\nvar x = new MutationObserver(function (mutations, observer) {{\n        var display = window.getComputedStyle(gd).display;\n        if (!display || display === 'none') {{\n            console.log([gd, 'removed!']);\n            Plotly.purge(gd);\n            observer.disconnect();\n        }}\n}});\n\n// Listen for the removal of the full notebook cells\nvar notebookContainer = gd.closest('#notebook-container');\nif (notebookContainer) {{\n    x.observe(notebookContainer, {childList: true});\n}}\n\n// Listen for the clearing of the current output cell\nvar outputEl = gd.closest('.output');\nif (outputEl) {{\n    x.observe(outputEl, {childList: true});\n}}\n\n                        })                };                            </script>        </div>\n</body>\n</html>"
        },
        "metadata": {},
        "output_type": "display_data"
       }
      ]
     }
    },
    "9918703946f9475da7d8449d5941fe29": {
     "model_module": "@jupyter-widgets/controls",
     "model_module_version": "1.5.0",
     "model_name": "VBoxModel",
     "state": {
      "_dom_classes": [],
      "_model_module": "@jupyter-widgets/controls",
      "_model_module_version": "1.5.0",
      "_model_name": "VBoxModel",
      "_view_count": null,
      "_view_module": "@jupyter-widgets/controls",
      "_view_module_version": "1.5.0",
      "_view_name": "VBoxView",
      "box_style": "",
      "children": [
       "IPY_MODEL_d1559228ff9346b99d53caff767596e3",
       "IPY_MODEL_61c28a35931c41c5914c597b5a9d62f6",
       "IPY_MODEL_a0cf098e51484f38ada54085dda166c7",
       "IPY_MODEL_eec2cccf6f964cfb9e741b0350683c71"
      ],
      "layout": "IPY_MODEL_4a71208f255e44ae958831473f514585"
     }
    },
    "9ab92614c9d24cdf962912fbb42fc58c": {
     "model_module": "@jupyter-widgets/controls",
     "model_module_version": "1.5.0",
     "model_name": "DescriptionStyleModel",
     "state": {
      "_model_module": "@jupyter-widgets/controls",
      "_model_module_version": "1.5.0",
      "_model_name": "DescriptionStyleModel",
      "_view_count": null,
      "_view_module": "@jupyter-widgets/base",
      "_view_module_version": "1.2.0",
      "_view_name": "StyleView",
      "description_width": ""
     }
    },
    "9bc35332a9c44880942ce3ea9d778583": {
     "model_module": "@jupyter-widgets/controls",
     "model_module_version": "1.5.0",
     "model_name": "VBoxModel",
     "state": {
      "_dom_classes": [],
      "_model_module": "@jupyter-widgets/controls",
      "_model_module_version": "1.5.0",
      "_model_name": "VBoxModel",
      "_view_count": null,
      "_view_module": "@jupyter-widgets/controls",
      "_view_module_version": "1.5.0",
      "_view_name": "VBoxView",
      "box_style": "",
      "children": [
       "IPY_MODEL_63380b1cf8cf4a648f80bd91ebf52b7a",
       "IPY_MODEL_e6aaacfb0d22470c9dcdc307f5d5f089",
       "IPY_MODEL_4eb830e9f9e7433eb46e9cec1ffeee1b",
       "IPY_MODEL_01cca1f76dfc469f9abb9ba3c2a2ca7d"
      ],
      "layout": "IPY_MODEL_ddc4574c05064b05a92b9240d2af718c"
     }
    },
    "9f5921851d4d4518a2b89d68e364e938": {
     "model_module": "@jupyter-widgets/base",
     "model_module_version": "1.2.0",
     "model_name": "LayoutModel",
     "state": {
      "_model_module": "@jupyter-widgets/base",
      "_model_module_version": "1.2.0",
      "_model_name": "LayoutModel",
      "_view_count": null,
      "_view_module": "@jupyter-widgets/base",
      "_view_module_version": "1.2.0",
      "_view_name": "LayoutView",
      "align_content": null,
      "align_items": null,
      "align_self": null,
      "border": null,
      "bottom": null,
      "display": "none",
      "flex": null,
      "flex_flow": null,
      "grid_area": null,
      "grid_auto_columns": null,
      "grid_auto_flow": null,
      "grid_auto_rows": null,
      "grid_column": null,
      "grid_gap": null,
      "grid_row": null,
      "grid_template_areas": null,
      "grid_template_columns": null,
      "grid_template_rows": null,
      "height": null,
      "justify_content": null,
      "justify_items": null,
      "left": null,
      "margin": null,
      "max_height": null,
      "max_width": null,
      "min_height": null,
      "min_width": null,
      "object_fit": null,
      "object_position": null,
      "order": null,
      "overflow": null,
      "overflow_x": null,
      "overflow_y": null,
      "padding": null,
      "right": null,
      "top": null,
      "visibility": null,
      "width": "70%"
     }
    },
    "9fdebe93701e49889dd16c5abdaea0e9": {
     "model_module": "@jupyter-widgets/controls",
     "model_module_version": "1.5.0",
     "model_name": "DescriptionStyleModel",
     "state": {
      "_model_module": "@jupyter-widgets/controls",
      "_model_module_version": "1.5.0",
      "_model_name": "DescriptionStyleModel",
      "_view_count": null,
      "_view_module": "@jupyter-widgets/base",
      "_view_module_version": "1.2.0",
      "_view_name": "StyleView",
      "description_width": ""
     }
    },
    "a0cf098e51484f38ada54085dda166c7": {
     "model_module": "@jupyter-widgets/controls",
     "model_module_version": "1.5.0",
     "model_name": "FloatTextModel",
     "state": {
      "_dom_classes": [],
      "_model_module": "@jupyter-widgets/controls",
      "_model_module_version": "1.5.0",
      "_model_name": "FloatTextModel",
      "_view_count": null,
      "_view_module": "@jupyter-widgets/controls",
      "_view_module_version": "1.5.0",
      "_view_name": "FloatTextView",
      "continuous_update": false,
      "description": "k:",
      "description_tooltip": null,
      "disabled": false,
      "layout": "IPY_MODEL_9f5921851d4d4518a2b89d68e364e938",
      "step": 0.1,
      "style": "IPY_MODEL_9fdebe93701e49889dd16c5abdaea0e9",
      "value": 2
     }
    },
    "a9406355b3564238978c82a7f0465441": {
     "model_module": "@jupyter-widgets/controls",
     "model_module_version": "1.5.0",
     "model_name": "HBoxModel",
     "state": {
      "_dom_classes": [],
      "_model_module": "@jupyter-widgets/controls",
      "_model_module_version": "1.5.0",
      "_model_name": "HBoxModel",
      "_view_count": null,
      "_view_module": "@jupyter-widgets/controls",
      "_view_module_version": "1.5.0",
      "_view_name": "HBoxView",
      "box_style": "",
      "children": [
       "IPY_MODEL_9918703946f9475da7d8449d5941fe29",
       "IPY_MODEL_9bc35332a9c44880942ce3ea9d778583"
      ],
      "layout": "IPY_MODEL_670aa4a24dfb438e9a4bcc33b7ed64e3"
     }
    },
    "af634f28e8a04c769a348625bd77ec58": {
     "model_module": "@jupyter-widgets/base",
     "model_module_version": "1.2.0",
     "model_name": "LayoutModel",
     "state": {
      "_model_module": "@jupyter-widgets/base",
      "_model_module_version": "1.2.0",
      "_model_name": "LayoutModel",
      "_view_count": null,
      "_view_module": "@jupyter-widgets/base",
      "_view_module_version": "1.2.0",
      "_view_name": "LayoutView",
      "align_content": null,
      "align_items": null,
      "align_self": null,
      "border": null,
      "bottom": null,
      "display": null,
      "flex": null,
      "flex_flow": null,
      "grid_area": null,
      "grid_auto_columns": null,
      "grid_auto_flow": null,
      "grid_auto_rows": null,
      "grid_column": null,
      "grid_gap": null,
      "grid_row": null,
      "grid_template_areas": null,
      "grid_template_columns": null,
      "grid_template_rows": null,
      "height": null,
      "justify_content": null,
      "justify_items": null,
      "left": null,
      "margin": null,
      "max_height": null,
      "max_width": null,
      "min_height": null,
      "min_width": null,
      "object_fit": null,
      "object_position": null,
      "order": null,
      "overflow": null,
      "overflow_x": null,
      "overflow_y": null,
      "padding": null,
      "right": null,
      "top": null,
      "visibility": null,
      "width": "17%"
     }
    },
    "bab86dd017c54823b01de015a91dbabb": {
     "model_module": "@jupyter-widgets/base",
     "model_module_version": "1.2.0",
     "model_name": "LayoutModel",
     "state": {
      "_model_module": "@jupyter-widgets/base",
      "_model_module_version": "1.2.0",
      "_model_name": "LayoutModel",
      "_view_count": null,
      "_view_module": "@jupyter-widgets/base",
      "_view_module_version": "1.2.0",
      "_view_name": "LayoutView",
      "align_content": null,
      "align_items": null,
      "align_self": null,
      "border": null,
      "bottom": null,
      "display": null,
      "flex": null,
      "flex_flow": null,
      "grid_area": null,
      "grid_auto_columns": null,
      "grid_auto_flow": null,
      "grid_auto_rows": null,
      "grid_column": null,
      "grid_gap": null,
      "grid_row": null,
      "grid_template_areas": null,
      "grid_template_columns": null,
      "grid_template_rows": null,
      "height": null,
      "justify_content": null,
      "justify_items": null,
      "left": null,
      "margin": null,
      "max_height": null,
      "max_width": null,
      "min_height": null,
      "min_width": null,
      "object_fit": null,
      "object_position": null,
      "order": null,
      "overflow": null,
      "overflow_x": null,
      "overflow_y": null,
      "padding": null,
      "right": null,
      "top": null,
      "visibility": null,
      "width": null
     }
    },
    "c25c9ed93a78472bba9c4b440b2946d7": {
     "model_module": "@jupyter-widgets/base",
     "model_module_version": "1.2.0",
     "model_name": "LayoutModel",
     "state": {
      "_model_module": "@jupyter-widgets/base",
      "_model_module_version": "1.2.0",
      "_model_name": "LayoutModel",
      "_view_count": null,
      "_view_module": "@jupyter-widgets/base",
      "_view_module_version": "1.2.0",
      "_view_name": "LayoutView",
      "align_content": null,
      "align_items": null,
      "align_self": null,
      "border": null,
      "bottom": null,
      "display": "none",
      "flex": null,
      "flex_flow": null,
      "grid_area": null,
      "grid_auto_columns": null,
      "grid_auto_flow": null,
      "grid_auto_rows": null,
      "grid_column": null,
      "grid_gap": null,
      "grid_row": null,
      "grid_template_areas": null,
      "grid_template_columns": null,
      "grid_template_rows": null,
      "height": null,
      "justify_content": null,
      "justify_items": null,
      "left": null,
      "margin": null,
      "max_height": null,
      "max_width": null,
      "min_height": null,
      "min_width": null,
      "object_fit": null,
      "object_position": null,
      "order": null,
      "overflow": null,
      "overflow_x": null,
      "overflow_y": null,
      "padding": null,
      "right": null,
      "top": null,
      "visibility": null,
      "width": "70%"
     }
    },
    "c26666af2dd34216bbda3991401cb28e": {
     "model_module": "@jupyter-widgets/controls",
     "model_module_version": "1.5.0",
     "model_name": "DescriptionStyleModel",
     "state": {
      "_model_module": "@jupyter-widgets/controls",
      "_model_module_version": "1.5.0",
      "_model_name": "DescriptionStyleModel",
      "_view_count": null,
      "_view_module": "@jupyter-widgets/base",
      "_view_module_version": "1.2.0",
      "_view_name": "StyleView",
      "description_width": ""
     }
    },
    "c9e5cf0c56f34ad7b481171a9243f849": {
     "model_module": "@jupyter-widgets/controls",
     "model_module_version": "1.5.0",
     "model_name": "DropdownModel",
     "state": {
      "_dom_classes": [],
      "_model_module": "@jupyter-widgets/controls",
      "_model_module_version": "1.5.0",
      "_model_name": "DropdownModel",
      "_options_labels": [
       "Gaussian",
       "Skewed Gaussian",
       "Weibull"
      ],
      "_view_count": null,
      "_view_module": "@jupyter-widgets/controls",
      "_view_module_version": "1.5.0",
      "_view_name": "DropdownView",
      "description": "Distribution:",
      "description_tooltip": null,
      "disabled": false,
      "index": 0,
      "layout": "IPY_MODEL_37c7eb9e966c473b90132b8d5b864597",
      "style": "IPY_MODEL_01566dea1e754185b5eb6be57fb3e65d"
     }
    },
    "cfdabd99ee58480aa0932b86d76233a9": {
     "model_module": "@jupyter-widgets/output",
     "model_module_version": "1.0.0",
     "model_name": "OutputModel",
     "state": {
      "_dom_classes": [],
      "_model_module": "@jupyter-widgets/output",
      "_model_module_version": "1.0.0",
      "_model_name": "OutputModel",
      "_view_count": null,
      "_view_module": "@jupyter-widgets/output",
      "_view_module_version": "1.0.0",
      "_view_name": "OutputView",
      "layout": "IPY_MODEL_31f84b4b7a914739b1ed4061be49f479",
      "msg_id": "",
      "outputs": [
       {
        "name": "stdout",
        "output_type": "stream",
        "text": [
         "\t\t['Gaussian', 1, 0.05]\n"
        ]
       },
       {
        "data": {
         "text/html": "<html>\n<head><meta charset=\"utf-8\" /></head>\n<body>\n    <div>            <script src=\"https://cdnjs.cloudflare.com/ajax/libs/mathjax/2.7.5/MathJax.js?config=TeX-AMS-MML_SVG\"></script><script type=\"text/javascript\">if (window.MathJax && window.MathJax.Hub && window.MathJax.Hub.Config) {window.MathJax.Hub.Config({SVG: {font: \"STIX-Web\"}});}</script>                <script type=\"text/javascript\">window.PlotlyConfig = {MathJaxConfig: 'local'};</script>\n        <script charset=\"utf-8\" src=\"https://cdn.plot.ly/plotly-2.35.2.min.js\"></script>                <div id=\"62dae464-bb30-4327-b24a-f126ff287cac\" class=\"plotly-graph-div\" style=\"height:350px; width:400px;\"></div>            <script type=\"text/javascript\">                                    window.PLOTLYENV=window.PLOTLYENV || {};                                    if (document.getElementById(\"62dae464-bb30-4327-b24a-f126ff287cac\")) {                    Plotly.newPlot(                        \"62dae464-bb30-4327-b24a-f126ff287cac\",                        [{\"marker\":{\"color\":\"#d2226a\"},\"mode\":\"lines\",\"name\":\"Relative frequency\",\"x\":[0.0,0.01,0.02,0.03,0.04,0.05,0.06,0.07,0.08,0.09,0.1,0.11,0.12,0.13,0.14,0.15,0.16,0.17,0.18,0.19,0.2,0.21,0.22,0.23,0.24,0.25,0.26,0.27,0.28,0.29,0.3,0.31,0.32,0.33,0.34,0.35000000000000003,0.36,0.37,0.38,0.39,0.4,0.41000000000000003,0.42,0.43,0.44,0.45,0.46,0.47000000000000003,0.48,0.49,0.5,0.51,0.52,0.53,0.54,0.55,0.56,0.5700000000000001,0.58,0.59,0.6,0.61,0.62,0.63,0.64,0.65,0.66,0.67,0.68,0.6900000000000001,0.7000000000000001,0.71,0.72,0.73,0.74,0.75,0.76,0.77,0.78,0.79,0.8,0.81,0.8200000000000001,0.8300000000000001,0.84,0.85,0.86,0.87,0.88,0.89,0.9,0.91,0.92,0.93,0.9400000000000001,0.9500000000000001,0.96,0.97,0.98,0.99,1.0,1.01,1.02,1.03,1.04,1.05,1.06,1.07,1.08,1.09,1.1,1.11,1.12,1.1300000000000001,1.1400000000000001,1.1500000000000001,1.16,1.17,1.18,1.19,1.2,1.21,1.22,1.23,1.24,1.25,1.26,1.27,1.28,1.29,1.3,1.31,1.32,1.33,1.34,1.35,1.36,1.37,1.3800000000000001,1.3900000000000001,1.4000000000000001,1.41,1.42,1.43,1.44,1.45,1.46,1.47,1.48,1.49,1.5,1.51,1.52,1.53,1.54,1.55,1.56,1.57,1.58,1.59,1.6,1.61,1.62,1.6300000000000001,1.6400000000000001,1.6500000000000001,1.6600000000000001,1.67,1.68,1.69,1.7,1.71,1.72,1.73,1.74,1.75,1.76,1.77,1.78,1.79,1.8,1.81,1.82,1.83,1.84,1.85,1.86,1.87,1.8800000000000001,1.8900000000000001,1.9000000000000001,1.9100000000000001,1.92,1.93,1.94,1.95,1.96,1.97,1.98,1.99,2.0],\"y\":[1.3838965267367376e-87,7.406203778867958e-86,3.8081663925606643e-84,1.8813274639386436e-82,8.929786911572053e-81,4.072358625761408e-79,1.784346355085867e-77,7.511739530735145e-76,3.0382961507319073e-74,1.1807226845824186e-72,4.408531331463226e-71,1.581496287947995e-69,5.450930475734714e-68,1.8051002629936473e-66,5.743283267428818e-65,1.7556880978548268e-63,5.156591326842331e-62,1.4551450402017122e-60,3.9452822052174554e-59,1.0277277534252784e-57,2.572209372642415e-56,6.185328486824212e-55,1.4290500583705025e-53,3.1721983574449105e-52,6.765524179769529e-51,1.3863432936411706e-49,2.7294072571903864e-48,5.162904820056606e-47,9.38313827283089e-46,1.6384392170068878e-44,2.7487850079102936e-43,4.43077231241295e-42,6.86193047676156e-41,1.021036846089396e-39,1.4597037932096358e-38,2.005008781961711e-37,2.64603779068766e-36,3.355088856231146e-35,4.087334972866004e-34,4.784148555816903e-33,5.380186160021215e-32,5.813238884889629e-31,6.034860805970919e-30,6.019280276816486e-29,5.768329961247802e-28,5.311092249679096e-27,4.6983548608979803e-26,3.993337409857663e-25,3.261027180711029e-24,2.558592081048686e-23,1.9287498479639178e-22,1.3969439431471188e-21,9.72098502030078e-21,6.499347972070986e-20,4.175010055850544e-19,2.5767571091550176e-18,1.5279799682873156e-17,8.705426622296374e-17,4.765304735299088e-16,2.5062218871452745e-15,1.2664165549094176e-14,6.148396412704777e-14,2.867975008888098e-13,1.2853372251336548e-12,5.534610071701052e-12,2.2897348456455695e-11,9.101470764488e-11,3.475891281239959e-10,1.2754076295260578e-9,4.4963494622809015e-9,1.522997974471279e-8,4.95640531917248e-8,1.5497531357028912e-7,4.655715715783078e-7,1.343812277631519e-6,3.7266531720786714e-6,9.929504305851081e-6,0.000025419346516199295,0.00006252150377482037,0.00014774836023203415,0.00033546262790251305,0.0007318024188804755,0.0015338106793244715,0.0030887154082367856,0.005976022895005932,0.011108996538242287,0.01984109474437027,0.03404745473459933,0.056134762834133725,0.08892161745938638,0.1353352832366128,0.19789869908361493,0.27803730045319447,0.37531109885140007,0.48675225595997235,0.6065306597126342,0.7261490370736905,0.8352702114112718,0.9231163463866356,0.9801986733067553,1.0,0.9801986733067553,0.9231163463866356,0.8352702114112718,0.7261490370736905,0.6065306597126329,0.486752255959971,0.37531109885139896,0.27803730045319347,0.19789869908361413,0.1353352832366122,0.08892161745938594,0.05613476283413343,0.034047454734599136,0.019841094744370145,0.011108996538242218,0.005976022895005975,0.0030887154082367856,0.0015338106793244715,0.0007318024188804755,0.00033546262790251305,0.00014774836023203415,0.00006252150377482037,0.000025419346516199295,9.929504305851081e-6,3.7266531720786714e-6,1.343812277631519e-6,4.655715715783078e-7,1.5497531357028912e-7,4.95640531917248e-8,1.522997974471252e-8,4.496349462280838e-9,1.275407629526035e-9,3.4758912812398977e-10,9.101470764487838e-11,2.2897348456455203e-11,5.5346100717009545e-12,1.2853372251336275e-12,2.8679750088880473e-13,6.148396412704648e-14,1.2664165549093996e-14,2.506221887145328e-15,4.765304735299156e-16,8.705426622296374e-17,1.5279799682873156e-17,2.5767571091550176e-18,4.175010055850544e-19,6.499347972070986e-20,9.72098502030078e-21,1.3969439431471188e-21,1.9287498479639178e-22,2.558592081048686e-23,3.261027180711029e-24,3.993337409857663e-25,4.6983548608979803e-26,5.311092249679096e-27,5.768329961247802e-28,6.019280276816486e-29,6.034860805970919e-30,5.813238884889547e-31,5.380186160020985e-32,4.784148555816768e-33,4.0873349728658285e-34,3.3550888562310496e-35,2.646037790687547e-36,2.005008781961597e-37,1.459703793209532e-38,1.021036846089396e-39,6.86193047676156e-41,4.43077231241295e-42,2.7487850079102936e-43,1.6384392170068878e-44,9.38313827283089e-46,5.162904820056606e-47,2.7294072571903864e-48,1.3863432936411706e-49,6.765524179769529e-51,3.1721983574449105e-52,1.4290500583705025e-53,6.185328486824212e-55,2.572209372642415e-56,1.0277277534252784e-57,3.9452822052174554e-59,1.4551450402016293e-60,5.156591326842038e-62,1.7556880978548268e-63,5.743283267428818e-65,1.8051002629935448e-66,5.450930475734405e-68,1.581496287947995e-69,4.408531331463226e-71,1.1807226845823178e-72,3.0382961507319073e-74,7.511739530735145e-76,1.784346355085867e-77,4.072358625761408e-79,8.929786911572053e-81,1.8813274639386436e-82,3.8081663925606643e-84,7.406203778867958e-86,1.3838965267367376e-87],\"type\":\"scatter\"}],                        {\"template\":{\"data\":{\"histogram2dcontour\":[{\"type\":\"histogram2dcontour\",\"colorbar\":{\"outlinewidth\":0,\"ticks\":\"\"},\"colorscale\":[[0.0,\"#0d0887\"],[0.1111111111111111,\"#46039f\"],[0.2222222222222222,\"#7201a8\"],[0.3333333333333333,\"#9c179e\"],[0.4444444444444444,\"#bd3786\"],[0.5555555555555556,\"#d8576b\"],[0.6666666666666666,\"#ed7953\"],[0.7777777777777778,\"#fb9f3a\"],[0.8888888888888888,\"#fdca26\"],[1.0,\"#f0f921\"]]}],\"choropleth\":[{\"type\":\"choropleth\",\"colorbar\":{\"outlinewidth\":0,\"ticks\":\"\"}}],\"histogram2d\":[{\"type\":\"histogram2d\",\"colorbar\":{\"outlinewidth\":0,\"ticks\":\"\"},\"colorscale\":[[0.0,\"#0d0887\"],[0.1111111111111111,\"#46039f\"],[0.2222222222222222,\"#7201a8\"],[0.3333333333333333,\"#9c179e\"],[0.4444444444444444,\"#bd3786\"],[0.5555555555555556,\"#d8576b\"],[0.6666666666666666,\"#ed7953\"],[0.7777777777777778,\"#fb9f3a\"],[0.8888888888888888,\"#fdca26\"],[1.0,\"#f0f921\"]]}],\"heatmap\":[{\"type\":\"heatmap\",\"colorbar\":{\"outlinewidth\":0,\"ticks\":\"\"},\"colorscale\":[[0.0,\"#0d0887\"],[0.1111111111111111,\"#46039f\"],[0.2222222222222222,\"#7201a8\"],[0.3333333333333333,\"#9c179e\"],[0.4444444444444444,\"#bd3786\"],[0.5555555555555556,\"#d8576b\"],[0.6666666666666666,\"#ed7953\"],[0.7777777777777778,\"#fb9f3a\"],[0.8888888888888888,\"#fdca26\"],[1.0,\"#f0f921\"]]}],\"heatmapgl\":[{\"type\":\"heatmapgl\",\"colorbar\":{\"outlinewidth\":0,\"ticks\":\"\"},\"colorscale\":[[0.0,\"#0d0887\"],[0.1111111111111111,\"#46039f\"],[0.2222222222222222,\"#7201a8\"],[0.3333333333333333,\"#9c179e\"],[0.4444444444444444,\"#bd3786\"],[0.5555555555555556,\"#d8576b\"],[0.6666666666666666,\"#ed7953\"],[0.7777777777777778,\"#fb9f3a\"],[0.8888888888888888,\"#fdca26\"],[1.0,\"#f0f921\"]]}],\"contourcarpet\":[{\"type\":\"contourcarpet\",\"colorbar\":{\"outlinewidth\":0,\"ticks\":\"\"}}],\"contour\":[{\"type\":\"contour\",\"colorbar\":{\"outlinewidth\":0,\"ticks\":\"\"},\"colorscale\":[[0.0,\"#0d0887\"],[0.1111111111111111,\"#46039f\"],[0.2222222222222222,\"#7201a8\"],[0.3333333333333333,\"#9c179e\"],[0.4444444444444444,\"#bd3786\"],[0.5555555555555556,\"#d8576b\"],[0.6666666666666666,\"#ed7953\"],[0.7777777777777778,\"#fb9f3a\"],[0.8888888888888888,\"#fdca26\"],[1.0,\"#f0f921\"]]}],\"surface\":[{\"type\":\"surface\",\"colorbar\":{\"outlinewidth\":0,\"ticks\":\"\"},\"colorscale\":[[0.0,\"#0d0887\"],[0.1111111111111111,\"#46039f\"],[0.2222222222222222,\"#7201a8\"],[0.3333333333333333,\"#9c179e\"],[0.4444444444444444,\"#bd3786\"],[0.5555555555555556,\"#d8576b\"],[0.6666666666666666,\"#ed7953\"],[0.7777777777777778,\"#fb9f3a\"],[0.8888888888888888,\"#fdca26\"],[1.0,\"#f0f921\"]]}],\"mesh3d\":[{\"type\":\"mesh3d\",\"colorbar\":{\"outlinewidth\":0,\"ticks\":\"\"}}],\"scatter\":[{\"fillpattern\":{\"fillmode\":\"overlay\",\"size\":10,\"solidity\":0.2},\"type\":\"scatter\"}],\"parcoords\":[{\"type\":\"parcoords\",\"line\":{\"colorbar\":{\"outlinewidth\":0,\"ticks\":\"\"}}}],\"scatterpolargl\":[{\"type\":\"scatterpolargl\",\"marker\":{\"colorbar\":{\"outlinewidth\":0,\"ticks\":\"\"}}}],\"bar\":[{\"error_x\":{\"color\":\"#2a3f5f\"},\"error_y\":{\"color\":\"#2a3f5f\"},\"marker\":{\"line\":{\"color\":\"#E5ECF6\",\"width\":0.5},\"pattern\":{\"fillmode\":\"overlay\",\"size\":10,\"solidity\":0.2}},\"type\":\"bar\"}],\"scattergeo\":[{\"type\":\"scattergeo\",\"marker\":{\"colorbar\":{\"outlinewidth\":0,\"ticks\":\"\"}}}],\"scatterpolar\":[{\"type\":\"scatterpolar\",\"marker\":{\"colorbar\":{\"outlinewidth\":0,\"ticks\":\"\"}}}],\"histogram\":[{\"marker\":{\"pattern\":{\"fillmode\":\"overlay\",\"size\":10,\"solidity\":0.2}},\"type\":\"histogram\"}],\"scattergl\":[{\"type\":\"scattergl\",\"marker\":{\"colorbar\":{\"outlinewidth\":0,\"ticks\":\"\"}}}],\"scatter3d\":[{\"type\":\"scatter3d\",\"line\":{\"colorbar\":{\"outlinewidth\":0,\"ticks\":\"\"}},\"marker\":{\"colorbar\":{\"outlinewidth\":0,\"ticks\":\"\"}}}],\"scattermapbox\":[{\"type\":\"scattermapbox\",\"marker\":{\"colorbar\":{\"outlinewidth\":0,\"ticks\":\"\"}}}],\"scatterternary\":[{\"type\":\"scatterternary\",\"marker\":{\"colorbar\":{\"outlinewidth\":0,\"ticks\":\"\"}}}],\"scattercarpet\":[{\"type\":\"scattercarpet\",\"marker\":{\"colorbar\":{\"outlinewidth\":0,\"ticks\":\"\"}}}],\"carpet\":[{\"aaxis\":{\"endlinecolor\":\"#2a3f5f\",\"gridcolor\":\"white\",\"linecolor\":\"white\",\"minorgridcolor\":\"white\",\"startlinecolor\":\"#2a3f5f\"},\"baxis\":{\"endlinecolor\":\"#2a3f5f\",\"gridcolor\":\"white\",\"linecolor\":\"white\",\"minorgridcolor\":\"white\",\"startlinecolor\":\"#2a3f5f\"},\"type\":\"carpet\"}],\"table\":[{\"cells\":{\"fill\":{\"color\":\"#EBF0F8\"},\"line\":{\"color\":\"white\"}},\"header\":{\"fill\":{\"color\":\"#C8D4E3\"},\"line\":{\"color\":\"white\"}},\"type\":\"table\"}],\"barpolar\":[{\"marker\":{\"line\":{\"color\":\"#E5ECF6\",\"width\":0.5},\"pattern\":{\"fillmode\":\"overlay\",\"size\":10,\"solidity\":0.2}},\"type\":\"barpolar\"}],\"pie\":[{\"automargin\":true,\"type\":\"pie\"}]},\"layout\":{\"autotypenumbers\":\"strict\",\"colorway\":[\"#636efa\",\"#EF553B\",\"#00cc96\",\"#ab63fa\",\"#FFA15A\",\"#19d3f3\",\"#FF6692\",\"#B6E880\",\"#FF97FF\",\"#FECB52\"],\"font\":{\"color\":\"#2a3f5f\"},\"hovermode\":\"closest\",\"hoverlabel\":{\"align\":\"left\"},\"paper_bgcolor\":\"white\",\"plot_bgcolor\":\"#E5ECF6\",\"polar\":{\"bgcolor\":\"#E5ECF6\",\"angularaxis\":{\"gridcolor\":\"white\",\"linecolor\":\"white\",\"ticks\":\"\"},\"radialaxis\":{\"gridcolor\":\"white\",\"linecolor\":\"white\",\"ticks\":\"\"}},\"ternary\":{\"bgcolor\":\"#E5ECF6\",\"aaxis\":{\"gridcolor\":\"white\",\"linecolor\":\"white\",\"ticks\":\"\"},\"baxis\":{\"gridcolor\":\"white\",\"linecolor\":\"white\",\"ticks\":\"\"},\"caxis\":{\"gridcolor\":\"white\",\"linecolor\":\"white\",\"ticks\":\"\"}},\"coloraxis\":{\"colorbar\":{\"outlinewidth\":0,\"ticks\":\"\"}},\"colorscale\":{\"sequential\":[[0.0,\"#0d0887\"],[0.1111111111111111,\"#46039f\"],[0.2222222222222222,\"#7201a8\"],[0.3333333333333333,\"#9c179e\"],[0.4444444444444444,\"#bd3786\"],[0.5555555555555556,\"#d8576b\"],[0.6666666666666666,\"#ed7953\"],[0.7777777777777778,\"#fb9f3a\"],[0.8888888888888888,\"#fdca26\"],[1.0,\"#f0f921\"]],\"sequentialminus\":[[0.0,\"#0d0887\"],[0.1111111111111111,\"#46039f\"],[0.2222222222222222,\"#7201a8\"],[0.3333333333333333,\"#9c179e\"],[0.4444444444444444,\"#bd3786\"],[0.5555555555555556,\"#d8576b\"],[0.6666666666666666,\"#ed7953\"],[0.7777777777777778,\"#fb9f3a\"],[0.8888888888888888,\"#fdca26\"],[1.0,\"#f0f921\"]],\"diverging\":[[0,\"#8e0152\"],[0.1,\"#c51b7d\"],[0.2,\"#de77ae\"],[0.3,\"#f1b6da\"],[0.4,\"#fde0ef\"],[0.5,\"#f7f7f7\"],[0.6,\"#e6f5d0\"],[0.7,\"#b8e186\"],[0.8,\"#7fbc41\"],[0.9,\"#4d9221\"],[1,\"#276419\"]]},\"xaxis\":{\"gridcolor\":\"white\",\"linecolor\":\"white\",\"ticks\":\"\",\"title\":{\"standoff\":15},\"zerolinecolor\":\"white\",\"automargin\":true,\"zerolinewidth\":2},\"yaxis\":{\"gridcolor\":\"white\",\"linecolor\":\"white\",\"ticks\":\"\",\"title\":{\"standoff\":15},\"zerolinecolor\":\"white\",\"automargin\":true,\"zerolinewidth\":2},\"scene\":{\"xaxis\":{\"backgroundcolor\":\"#E5ECF6\",\"gridcolor\":\"white\",\"linecolor\":\"white\",\"showbackground\":true,\"ticks\":\"\",\"zerolinecolor\":\"white\",\"gridwidth\":2},\"yaxis\":{\"backgroundcolor\":\"#E5ECF6\",\"gridcolor\":\"white\",\"linecolor\":\"white\",\"showbackground\":true,\"ticks\":\"\",\"zerolinecolor\":\"white\",\"gridwidth\":2},\"zaxis\":{\"backgroundcolor\":\"#E5ECF6\",\"gridcolor\":\"white\",\"linecolor\":\"white\",\"showbackground\":true,\"ticks\":\"\",\"zerolinecolor\":\"white\",\"gridwidth\":2}},\"shapedefaults\":{\"line\":{\"color\":\"#2a3f5f\"}},\"annotationdefaults\":{\"arrowcolor\":\"#2a3f5f\",\"arrowhead\":0,\"arrowwidth\":1},\"geo\":{\"bgcolor\":\"white\",\"landcolor\":\"#E5ECF6\",\"subunitcolor\":\"white\",\"showland\":true,\"showlakes\":true,\"lakecolor\":\"white\"},\"title\":{\"x\":0.05},\"mapbox\":{\"style\":\"light\"}}},\"margin\":{\"l\":20,\"r\":20,\"t\":15,\"b\":20},\"xaxis\":{\"title\":{\"text\":\"x\"},\"linewidth\":1,\"linecolor\":\"black\",\"mirror\":true,\"ticks\":\"outside\"},\"yaxis\":{\"title\":{\"text\":\"Relative frequency\"},\"linewidth\":1,\"linecolor\":\"black\",\"mirror\":true,\"ticks\":\"outside\",\"showgrid\":true,\"gridwidth\":0.1,\"gridcolor\":\"LightGrey\"},\"width\":400,\"height\":350,\"font\":{\"size\":16},\"title\":{\"font\":{\"size\":18}},\"paper_bgcolor\":\"rgba(0,0,0,0)\",\"plot_bgcolor\":\"rgba(0,0,0,0)\"},                        {\"responsive\": true}                    ).then(function(){\n                            \nvar gd = document.getElementById('62dae464-bb30-4327-b24a-f126ff287cac');\nvar x = new MutationObserver(function (mutations, observer) {{\n        var display = window.getComputedStyle(gd).display;\n        if (!display || display === 'none') {{\n            console.log([gd, 'removed!']);\n            Plotly.purge(gd);\n            observer.disconnect();\n        }}\n}});\n\n// Listen for the removal of the full notebook cells\nvar notebookContainer = gd.closest('#notebook-container');\nif (notebookContainer) {{\n    x.observe(notebookContainer, {childList: true});\n}}\n\n// Listen for the clearing of the current output cell\nvar outputEl = gd.closest('.output');\nif (outputEl) {{\n    x.observe(outputEl, {childList: true});\n}}\n\n                        })                };                            </script>        </div>\n</body>\n</html>"
        },
        "metadata": {},
        "output_type": "display_data"
       }
      ]
     }
    },
    "d1559228ff9346b99d53caff767596e3": {
     "model_module": "@jupyter-widgets/controls",
     "model_module_version": "1.5.0",
     "model_name": "FloatTextModel",
     "state": {
      "_dom_classes": [],
      "_model_module": "@jupyter-widgets/controls",
      "_model_module_version": "1.5.0",
      "_model_name": "FloatTextModel",
      "_view_count": null,
      "_view_module": "@jupyter-widgets/controls",
      "_view_module_version": "1.5.0",
      "_view_name": "FloatTextView",
      "continuous_update": false,
      "description": "x0:",
      "description_tooltip": null,
      "disabled": false,
      "layout": "IPY_MODEL_1f510be95d43417b820c678ba091b352",
      "step": 0.01,
      "style": "IPY_MODEL_3e65724aff1147f1bd3fe3e7bafca8f6",
      "value": 1
     }
    },
    "d7ee9756ee9343ebad76c82bed42642d": {
     "model_module": "@jupyter-widgets/controls",
     "model_module_version": "1.5.0",
     "model_name": "DescriptionStyleModel",
     "state": {
      "_model_module": "@jupyter-widgets/controls",
      "_model_module_version": "1.5.0",
      "_model_name": "DescriptionStyleModel",
      "_view_count": null,
      "_view_module": "@jupyter-widgets/base",
      "_view_module_version": "1.2.0",
      "_view_name": "StyleView",
      "description_width": ""
     }
    },
    "ddc4574c05064b05a92b9240d2af718c": {
     "model_module": "@jupyter-widgets/base",
     "model_module_version": "1.2.0",
     "model_name": "LayoutModel",
     "state": {
      "_model_module": "@jupyter-widgets/base",
      "_model_module_version": "1.2.0",
      "_model_name": "LayoutModel",
      "_view_count": null,
      "_view_module": "@jupyter-widgets/base",
      "_view_module_version": "1.2.0",
      "_view_name": "LayoutView",
      "align_content": null,
      "align_items": null,
      "align_self": null,
      "border": null,
      "bottom": null,
      "display": null,
      "flex": null,
      "flex_flow": null,
      "grid_area": null,
      "grid_auto_columns": null,
      "grid_auto_flow": null,
      "grid_auto_rows": null,
      "grid_column": null,
      "grid_gap": null,
      "grid_row": null,
      "grid_template_areas": null,
      "grid_template_columns": null,
      "grid_template_rows": null,
      "height": null,
      "justify_content": null,
      "justify_items": null,
      "left": null,
      "margin": null,
      "max_height": null,
      "max_width": null,
      "min_height": null,
      "min_width": null,
      "object_fit": null,
      "object_position": null,
      "order": null,
      "overflow": null,
      "overflow_x": null,
      "overflow_y": null,
      "padding": null,
      "right": null,
      "top": null,
      "visibility": null,
      "width": null
     }
    },
    "e6aaacfb0d22470c9dcdc307f5d5f089": {
     "model_module": "@jupyter-widgets/controls",
     "model_module_version": "1.5.0",
     "model_name": "FloatTextModel",
     "state": {
      "_dom_classes": [],
      "_model_module": "@jupyter-widgets/controls",
      "_model_module_version": "1.5.0",
      "_model_name": "FloatTextModel",
      "_view_count": null,
      "_view_module": "@jupyter-widgets/controls",
      "_view_module_version": "1.5.0",
      "_view_name": "FloatTextView",
      "continuous_update": false,
      "description": "skewness:",
      "description_tooltip": null,
      "disabled": false,
      "layout": "IPY_MODEL_c25c9ed93a78472bba9c4b440b2946d7",
      "step": 0.1,
      "style": "IPY_MODEL_04ecb642cccc4837baa99f00522a447a",
      "value": 2
     }
    },
    "e89c8ce23aef480882a73508e4cadf0f": {
     "model_module": "@jupyter-widgets/controls",
     "model_module_version": "1.5.0",
     "model_name": "VBoxModel",
     "state": {
      "_dom_classes": [],
      "_model_module": "@jupyter-widgets/controls",
      "_model_module_version": "1.5.0",
      "_model_name": "VBoxModel",
      "_view_count": null,
      "_view_module": "@jupyter-widgets/controls",
      "_view_module_version": "1.5.0",
      "_view_name": "VBoxView",
      "box_style": "",
      "children": [
       "IPY_MODEL_5b9d0c0432994973a41f8267a97aca8b",
       "IPY_MODEL_4c19cbc612c0488bb38a2553adc348d5"
      ],
      "layout": "IPY_MODEL_41b3e82310314cc1b8b7d1d8122c9dff"
     }
    },
    "ebd7b9ea7b6e4dfbacc1fe1c5b9697ae": {
     "model_module": "@jupyter-widgets/base",
     "model_module_version": "1.2.0",
     "model_name": "LayoutModel",
     "state": {
      "_model_module": "@jupyter-widgets/base",
      "_model_module_version": "1.2.0",
      "_model_name": "LayoutModel",
      "_view_count": null,
      "_view_module": "@jupyter-widgets/base",
      "_view_module_version": "1.2.0",
      "_view_name": "LayoutView",
      "align_content": null,
      "align_items": null,
      "align_self": null,
      "border": null,
      "bottom": null,
      "display": null,
      "flex": null,
      "flex_flow": null,
      "grid_area": null,
      "grid_auto_columns": null,
      "grid_auto_flow": null,
      "grid_auto_rows": null,
      "grid_column": null,
      "grid_gap": null,
      "grid_row": null,
      "grid_template_areas": null,
      "grid_template_columns": null,
      "grid_template_rows": null,
      "height": null,
      "justify_content": null,
      "justify_items": null,
      "left": null,
      "margin": null,
      "max_height": null,
      "max_width": null,
      "min_height": null,
      "min_width": null,
      "object_fit": null,
      "object_position": null,
      "order": null,
      "overflow": null,
      "overflow_x": null,
      "overflow_y": null,
      "padding": null,
      "right": null,
      "top": null,
      "visibility": null,
      "width": null
     }
    },
    "eec2cccf6f964cfb9e741b0350683c71": {
     "model_module": "@jupyter-widgets/controls",
     "model_module_version": "1.5.0",
     "model_name": "FloatTextModel",
     "state": {
      "_dom_classes": [],
      "_model_module": "@jupyter-widgets/controls",
      "_model_module_version": "1.5.0",
      "_model_name": "FloatTextModel",
      "_view_count": null,
      "_view_module": "@jupyter-widgets/controls",
      "_view_module_version": "1.5.0",
      "_view_name": "FloatTextView",
      "continuous_update": false,
      "description": "height:",
      "description_tooltip": null,
      "disabled": false,
      "layout": "IPY_MODEL_fa88320f0e854db88968435bc4535da4",
      "step": 0.1,
      "style": "IPY_MODEL_8887c6436ed3421fa7e95edf985f73d2",
      "value": 1
     }
    },
    "fa88320f0e854db88968435bc4535da4": {
     "model_module": "@jupyter-widgets/base",
     "model_module_version": "1.2.0",
     "model_name": "LayoutModel",
     "state": {
      "_model_module": "@jupyter-widgets/base",
      "_model_module_version": "1.2.0",
      "_model_name": "LayoutModel",
      "_view_count": null,
      "_view_module": "@jupyter-widgets/base",
      "_view_module_version": "1.2.0",
      "_view_name": "LayoutView",
      "align_content": null,
      "align_items": null,
      "align_self": null,
      "border": null,
      "bottom": null,
      "display": "none",
      "flex": null,
      "flex_flow": null,
      "grid_area": null,
      "grid_auto_columns": null,
      "grid_auto_flow": null,
      "grid_auto_rows": null,
      "grid_column": null,
      "grid_gap": null,
      "grid_row": null,
      "grid_template_areas": null,
      "grid_template_columns": null,
      "grid_template_rows": null,
      "height": null,
      "justify_content": null,
      "justify_items": null,
      "left": null,
      "margin": null,
      "max_height": null,
      "max_width": null,
      "min_height": null,
      "min_width": null,
      "object_fit": null,
      "object_position": null,
      "order": null,
      "overflow": null,
      "overflow_x": null,
      "overflow_y": null,
      "padding": null,
      "right": null,
      "top": null,
      "visibility": null,
      "width": "70%"
     }
    }
   }
  }
 },
 "nbformat": 4,
 "nbformat_minor": 5
}
