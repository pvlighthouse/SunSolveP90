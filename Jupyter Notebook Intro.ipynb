{
 "cells": [
  {
   "cell_type": "markdown",
   "id": "de78b5ad",
   "metadata": {},
   "source": [
    "![](Images/SunSolveLogo.svg)\n",
    "\n",
    "# Introduction to Jupyter Notebooks"
   ]
  },
  {
   "cell_type": "markdown",
   "id": "19221930",
   "metadata": {},
   "source": [
    "## What is a computational notebook?\n",
    "\n",
    "Welcome to your first **Jupyter notebook** - a type of **computational notebook**!\n",
    "\n",
    "Think of this as an interactive document where you can:\n",
    "- Write and run code\n",
    "- See results immediately \n",
    "- Mix text explanations with calculations\n",
    "- Save everything together\n",
    "\n",
    "For data analysis, it allows not only the **inputs** and the **results** of the analysis to be presented, but also the **analysis process** itself."
   ]
  },
  {
   "cell_type": "markdown",
   "id": "1ed39fa0",
   "metadata": {},
   "source": [
    "## How to run cells\n",
    "\n",
    "Each box (called a **cell**) can contain either formatted text or Python code. To **run** a cell:\n",
    "\n",
    "- **`SHIFT+ENTER`**: Run the cell and move to the next one\n",
    "- **`CTRL/⌘+ENTER`**: Run the cell but don't move ahead\n",
    "- **Play button** ▶️: Click the play button to the left of the cell (or under the top menu)\n",
    "\n",
    "<img src=\"Images/PlayButtonLocations.png\" width=\"800\"/>\n",
    "\n",
    "Try running the code cell below! Code cells can produce output, which is displayed beneath the cell."
   ]
  },
  {
   "cell_type": "code",
   "execution_count": null,
   "id": "2e3b777d",
   "metadata": {},
   "outputs": [],
   "source": [
    "# Your first code cell - try running this!\n",
    "print(\"Hello, world!\")\n",
    "print(\"Hello, computational notebook!\")\n",
    "print(\"🎉 I just ran my first cell! 🎉\")\n",
    "\n",
    "# Let's create a variable\n",
    "x = 5\n",
    "print(f\"I've stored the number {x} in memory\")"
   ]
  },
  {
   "cell_type": "markdown",
   "id": "c0e2a2fa",
   "metadata": {},
   "source": [
    "<details>\n",
    "<summary>Click to expand for VS Code users</summary>\n",
    "You will be asked to provide a Python kernel, the default is 'venv' but you may wish to use 'conda' if you use Anaconda.\n",
    "</details>"
   ]
  },
  {
   "cell_type": "markdown",
   "id": "87099bc0",
   "metadata": {},
   "source": [
    "## Cells remember information\n",
    "\n",
    "Here's the magic: **notebooks remember what you've done**! \n",
    "\n",
    "The variable `x = 5` from the previous cell is still available. Run the cell below to see:\n",
    "\n",
    "**Remember**: run cells with ▶️ or `SHIFT+ENTER`."
   ]
  },
  {
   "cell_type": "code",
   "execution_count": null,
   "id": "8898cf0f",
   "metadata": {},
   "outputs": [],
   "source": [
    "# This uses the variable 'x' from the previous code cell\n",
    "print(f\"The value of x is still: {x}\")\n",
    "\n",
    "# Let's do some math\n",
    "y = x * 2\n",
    "z = x + 10\n",
    "\n",
    "print(f\"Double x is: {y}\")\n",
    "print(f\"x plus 10 is: {z}\")\n",
    "print(f\"Now I have three variables: x={x}, y={y}, z={z}\")"
   ]
  },
  {
   "cell_type": "markdown",
   "id": "9fa4754c",
   "metadata": {},
   "source": [
    "## Getting user input\n",
    "\n",
    "Notebooks can also ask you questions and use your answers in calculations:\n",
    "\n",
    "A prompt will appear when you run this cell. Usually this prompt will appear below the cell, like output.\n",
    "\n",
    "<details>\n",
    "<summary>VS Code users will see the prompt in their search bar.</summary>\n",
    "The search bar is at the top of the VS code window. You will need to type your responses and press enter to finish running the cell.\n",
    "</details>"
   ]
  },
  {
   "cell_type": "code",
   "execution_count": null,
   "id": "c1a65b7d",
   "metadata": {},
   "outputs": [],
   "source": [
    "import datetime     # Importing a library to work with dates\n",
    "# Interactive input - the notebook will wait for your response\n",
    "name = input(\"What's your name? \")\n",
    "age = int(input(\"How old are you? \"))\n",
    "\n",
    "# Using your input in calculations (estimating birth year)\n",
    "birth_year = datetime.datetime.now().year - age\n",
    "is_leap = (birth_year % 4 == 0 and birth_year % 100 != 0) or (birth_year % 400 == 0)\n",
    "days_in_year = 366 if is_leap else 365\n",
    "\n",
    "# Find what day of the week January 1st was (Jan 1 always gets an extra day, also Jan 2 if leap year)\n",
    "jan_1_weekday = datetime.date(birth_year, 1, 1).weekday()  # 0=Monday, 6=Sunday\n",
    "\n",
    "# Find that years 'most_frequent_days'\n",
    "day_names = ['Monday', 'Tuesday', 'Wednesday', 'Thursday', 'Friday', 'Saturday', 'Sunday']\n",
    "most_frequent_days = [day_names[(jan_1_weekday + i) % 7] for i in range(days_in_year%7)]\n",
    "\n",
    "print(f\"\\nIn {birth_year}, {'these days' if is_leap else 'this day'} appeared most frequently (53 times):\")\n",
    "print(f\"{', '.join(most_frequent_days)}\")\n"
   ]
  },
  {
   "cell_type": "markdown",
   "id": "a9a65260",
   "metadata": {},
   "source": [
    "## Plotting\n",
    "\n",
    "One of the most useful features of computational notebooks is plotting the results of your analysis in the same document as the code that generated it.\n",
    "\n",
    "We'll import some libraries to help."
   ]
  },
  {
   "cell_type": "code",
   "execution_count": null,
   "id": "b9cb0258",
   "metadata": {},
   "outputs": [],
   "source": [
    "import matplotlib.pyplot as plt\n",
    "# Plotting the most frequent days of each year from 1950 to current year\n",
    "start_year = 1950\n",
    "end_year = datetime.datetime.now().year\n",
    "years = list(range(1950, end_year+1))\n",
    "plot_years = []\n",
    "plot_days = []\n",
    "\n",
    "for year in years:\n",
    "    is_leap = (year % 4 == 0 and year % 100 != 0) or (year % 400 == 0)\n",
    "    days_in_year = 366 if is_leap else 365\n",
    "    jan_1_weekday = datetime.date(year, 1, 1).weekday()\n",
    "    \n",
    "    # Find which days appeared 53 times in that year\n",
    "    for i in range(jan_1_weekday, jan_1_weekday + (days_in_year % 7)):\n",
    "        day_index = i % 7\n",
    "        plot_years.append(year)\n",
    "        plot_days.append(day_index)\n",
    "\n",
    "# Create scatter plot\n",
    "plt.figure(figsize=(12, 6))\n",
    "plt.plot(plot_years, plot_days, '.-', alpha=0.6)\n",
    "plt.xlabel('Year')\n",
    "plt.ylabel('Day of Week')\n",
    "plt.title('Most Frequent Days of Each Year (1950 - Present)')\n",
    "plt.yticks(range(7), day_names)     # Change the y-ticks to day names\n",
    "plt.show()"
   ]
  },
  {
   "cell_type": "markdown",
   "id": "ff451b1c",
   "metadata": {},
   "source": [
    "## Try it yourself!\n",
    "\n",
    "Your turn! The cell below is empty - write some code using the variables we've created:\n",
    "- `name` (your name)\n",
    "- `age` (your age) \n",
    "- `x`, `y`, `z` (the numbers from earlier)\n",
    "- `most_frequent_days` (the one or two days that were most frequent in `birth_year`)\n",
    "\n",
    "**Ideas to try:**\n",
    "- Make a personal message using your name and the numbers\n",
    "- Do some math with the variables"
   ]
  },
  {
   "cell_type": "code",
   "execution_count": null,
   "id": "77a4af73",
   "metadata": {},
   "outputs": [],
   "source": [
    "# Your turn - write some code here!\n",
    "# Try using the variables 'name', 'age', 'x', 'y', or 'z' from earlier cells\n"
   ]
  },
  {
   "cell_type": "markdown",
   "id": "ca02af32",
   "metadata": {},
   "source": [
    "## What makes this powerful?\n",
    "\n",
    "You've just experienced the core power of computational notebooks:\n",
    "\n",
    "1. **Interactive**: Run code step-by-step and see results immediately\n",
    "2. **Stateful**: Each cell remembers what previous cells have done\n",
    "3. **Mixed media**: Combine explanations, code, and results in one document\n",
    "4. **Exploratory**: Perfect for testing ideas, analyzing data, and learning\n",
    "\n",
    "**Real-world uses:**\n",
    "- Data analysis and visualization\n",
    "- Scientific research and modeling\n",
    "- Machine learning experiments\n",
    "- Educational tutorials (like this one!)\n",
    "- Prototyping and testing ideas"
   ]
  },
  {
   "cell_type": "markdown",
   "id": "f8da691a",
   "metadata": {},
   "source": [
    "## Next steps\n",
    "\n",
    "Congratulations! You now understand the basics of Jupyter notebooks (computational notebooks).\n",
    "\n",
    "**You've learned:**\n",
    "- ✅ How to run cells with `SHIFT+ENTER` (or ▶️)\n",
    "- ✅ That cells remember information from previous cells\n",
    "- ✅ How to get user input and use it in calculations\n",
    "- ✅ Why notebooks are perfect for interactive computing\n",
    "\n",
    "Now, learn some [keyboard shortcuts](https://www.dataschool.io/jupyter-notebook-keyboard-shortcuts/) to help you use Jupyter notebooks more efficiently.\n",
    "\n",
    "**Ready for more?** Try exploring other notebooks in this repository, or create your own by going to `File → New → Notebook`."
   ]
  }
 ],
 "metadata": {
  "kernelspec": {
   "display_name": "base",
   "language": "python",
   "name": "python3"
  },
  "language_info": {
   "codemirror_mode": {
    "name": "ipython",
    "version": 3
   },
   "file_extension": ".py",
   "mimetype": "text/x-python",
   "name": "python",
   "nbconvert_exporter": "python",
   "pygments_lexer": "ipython3",
   "version": "3.13.5"
  }
 },
 "nbformat": 4,
 "nbformat_minor": 5
}
